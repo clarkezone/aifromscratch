{
 "cells": [
  {
   "cell_type": "markdown",
   "id": "a4525faa",
   "metadata": {},
   "source": [
    "## Backpropagation.\n",
    "\n",
    "Efficiently evaluate the gradient of a loss function with respect to the weights of a neural network.  Enables iterative tuning of weights of NN to minimize loss function and improve accuracy of the NN."
   ]
  },
  {
   "cell_type": "code",
   "execution_count": null,
   "id": "3d26cf58",
   "metadata": {},
   "outputs": [
    {
     "name": "stdout",
     "output_type": "stream",
     "text": [
      "Defaulting to user installation because normal site-packages is not writeable\n",
      "Requirement already satisfied: numpy in /Users/jamesclarke/Library/Python/3.9/lib/python/site-packages (2.0.2)\n",
      "\u001b[33mWARNING: You are using pip version 21.2.4; however, version 25.2 is available.\n",
      "You should consider upgrading via the '/Applications/Xcode.app/Contents/Developer/usr/bin/python3 -m pip install --upgrade pip' command.\u001b[0m\n",
      "Note: you may need to restart the kernel to use updated packages.\n",
      "Defaulting to user installation because normal site-packages is not writeable\n",
      "Requirement already satisfied: matplotlib in /Users/jamesclarke/Library/Python/3.9/lib/python/site-packages (3.9.4)\n",
      "Requirement already satisfied: fonttools>=4.22.0 in /Users/jamesclarke/Library/Python/3.9/lib/python/site-packages (from matplotlib) (4.59.2)\n",
      "Requirement already satisfied: pillow>=8 in /Users/jamesclarke/Library/Python/3.9/lib/python/site-packages (from matplotlib) (11.3.0)\n",
      "Requirement already satisfied: importlib-resources>=3.2.0 in /Users/jamesclarke/Library/Python/3.9/lib/python/site-packages (from matplotlib) (6.5.2)\n",
      "Requirement already satisfied: python-dateutil>=2.7 in /Users/jamesclarke/Library/Python/3.9/lib/python/site-packages (from matplotlib) (2.9.0.post0)\n",
      "Requirement already satisfied: pyparsing>=2.3.1 in /Users/jamesclarke/Library/Python/3.9/lib/python/site-packages (from matplotlib) (3.2.4)\n",
      "Requirement already satisfied: contourpy>=1.0.1 in /Users/jamesclarke/Library/Python/3.9/lib/python/site-packages (from matplotlib) (1.3.0)\n",
      "Requirement already satisfied: packaging>=20.0 in /Users/jamesclarke/Library/Python/3.9/lib/python/site-packages (from matplotlib) (25.0)\n",
      "Requirement already satisfied: kiwisolver>=1.3.1 in /Users/jamesclarke/Library/Python/3.9/lib/python/site-packages (from matplotlib) (1.4.7)\n",
      "Requirement already satisfied: cycler>=0.10 in /Users/jamesclarke/Library/Python/3.9/lib/python/site-packages (from matplotlib) (0.12.1)\n",
      "Requirement already satisfied: numpy>=1.23 in /Users/jamesclarke/Library/Python/3.9/lib/python/site-packages (from matplotlib) (2.0.2)\n",
      "Requirement already satisfied: zipp>=3.1.0 in /Users/jamesclarke/Library/Python/3.9/lib/python/site-packages (from importlib-resources>=3.2.0->matplotlib) (3.23.0)\n",
      "Requirement already satisfied: six>=1.5 in /Applications/Xcode.app/Contents/Developer/Library/Frameworks/Python3.framework/Versions/3.9/lib/python3.9/site-packages (from python-dateutil>=2.7->matplotlib) (1.15.0)\n",
      "\u001b[33mWARNING: You are using pip version 21.2.4; however, version 25.2 is available.\n",
      "You should consider upgrading via the '/Applications/Xcode.app/Contents/Developer/usr/bin/python3 -m pip install --upgrade pip' command.\u001b[0m\n",
      "Note: you may need to restart the kernel to use updated packages.\n",
      "Defaulting to user installation because normal site-packages is not writeable\n",
      "Requirement already satisfied: sympy in /Users/jamesclarke/Library/Python/3.9/lib/python/site-packages (1.14.0)\n",
      "Requirement already satisfied: mpmath<1.4,>=1.1.0 in /Users/jamesclarke/Library/Python/3.9/lib/python/site-packages (from sympy) (1.3.0)\n",
      "\u001b[33mWARNING: You are using pip version 21.2.4; however, version 25.2 is available.\n",
      "You should consider upgrading via the '/Applications/Xcode.app/Contents/Developer/usr/bin/python3 -m pip install --upgrade pip' command.\u001b[0m\n",
      "Note: you may need to restart the kernel to use updated packages.\n",
      "Defaulting to user installation because normal site-packages is not writeable\n",
      "Collecting graphviz\n",
      "  Downloading graphviz-0.21-py3-none-any.whl (47 kB)\n",
      "\u001b[K     |████████████████████████████████| 47 kB 5.9 MB/s eta 0:00:011\n",
      "\u001b[?25hInstalling collected packages: graphviz\n",
      "Successfully installed graphviz-0.21\n",
      "\u001b[33mWARNING: You are using pip version 21.2.4; however, version 25.2 is available.\n",
      "You should consider upgrading via the '/Applications/Xcode.app/Contents/Developer/usr/bin/python3 -m pip install --upgrade pip' command.\u001b[0m\n",
      "Note: you may need to restart the kernel to use updated packages.\n"
     ]
    }
   ],
   "source": [
    "%pip install numpy \n",
    "%pip install matplotlib\n",
    "%pip install sympy\n",
    "%pip install graphviz\n",
    "# note also need to brew install graphviz or eqivalent for your OS"
   ]
  },
  {
   "cell_type": "markdown",
   "id": "068ec9d6",
   "metadata": {},
   "source": [
    "Define the function\n",
    "\n",
    "$$\n",
    "f(x) = 3x^2 - 4x + 5\n",
    "$$\n",
    "\n",
    "add call it with x = 3\n",
    "\n",
    "The plot from -5 to 5 in steps of 0.25"
   ]
  },
  {
   "cell_type": "code",
   "execution_count": 63,
   "id": "544a0ff8",
   "metadata": {},
   "outputs": [
    {
     "data": {
      "text/plain": [
       "[<matplotlib.lines.Line2D at 0x115512310>]"
      ]
     },
     "execution_count": 63,
     "metadata": {},
     "output_type": "execute_result"
    },
    {
     "data": {
      "image/png": "[encoded data removed]",
      "text/plain": [
       "<Figure size 640x480 with 1 Axes>"
      ]
     },
     "metadata": {},
     "output_type": "display_data"
    }
   ],
   "source": [
    "import math\n",
    "import numpy as np\n",
    "import matplotlib.pyplot as plt\n",
    "%matplotlib inline\n",
    "\n",
    "def f(x):\n",
    "    return 3*x**2 - 4*x + 5\n",
    "\n",
    "f(3.0)\n",
    "\n",
    "xs = np.arange(-5, 5, 0.25)\n",
    "ys = f(xs)\n",
    "plt.plot(xs, ys)"
   ]
  },
  {
   "cell_type": "markdown",
   "id": "8e80f7b5",
   "metadata": {},
   "source": [
    "## Approximating the derivative\n",
    "\n",
    "Instead of a symbolic approach we can use a numerical approximation\n",
    "\n",
    "Newton's difference quotient (the definition of a derivative):\n",
    "\n",
    "$$\n",
    "f'(x) = \\lim_{h \\to 0} \\frac{f(x+h) - f(x)}{h}\n",
    "$$\n",
    "\n",
    "For numerical approximation, we use a small value of $h$:\n",
    "\n",
    "$$\n",
    "f'(x) \\approx \\frac{f(x+h) - f(x)}{h}\n",
    "$$\n",
    "\n",
    "For a function x, if you slightly increase the input by h, how does the function respond, with what sensitivity, what is the slope of the response.\n",
    "\n",
    "To evaluate the derivitve, take a small h."
   ]
  },
  {
   "cell_type": "code",
   "execution_count": 64,
   "id": "46a2c393",
   "metadata": {},
   "outputs": [
    {
     "name": "stdout",
     "output_type": "stream",
     "text": [
      "14.00300000000243\n",
      "14.00000009255109\n",
      "0.0\n"
     ]
    }
   ],
   "source": [
    "h = 0.001\n",
    "x = 3.0\n",
    "print((f(x + h) - f(x)) / h) # rise over run\n",
    "\n",
    "# make h very small in order to converge on the actual derivative\n",
    "\n",
    "# Look at above graph where x is 3.0 and look at the shape as x increases\n",
    "# you can see it is going up very steeply\n",
    "# so we expect the derivative to be a large positive number\n",
    "\n",
    "x = 3.0\n",
    "h = 0.00000001 # increase x very slightly with the delta h...\n",
    "\n",
    "print((f(x + h) - f(x)) / h) # rise over run\n",
    "\n",
    "# when h is too small, we run into floating point precision issues\n",
    "x = 3.0\n",
    "h = 0.0000000000000000000001\n",
    "print((f(x + h) - f(x)) / h) # rise over run\n",
    "\n",
    "# at 3.0, the derivative is 14.0 which means the slope of the tangent line is 14.0\n"
   ]
  },
  {
   "cell_type": "markdown",
   "id": "cc6a3083",
   "metadata": {},
   "source": [
    "Now let's validate the numerical approximation with a symbolic approach using the 'sympy' library."
   ]
  },
  {
   "cell_type": "code",
   "execution_count": 65,
   "id": "2390da61",
   "metadata": {},
   "outputs": [
    {
     "name": "stdout",
     "output_type": "stream",
     "text": [
      "f(x) = 3*x**2 - 4*x + 5\n",
      "6*x - 4\n",
      "20\n",
      "14\n"
     ]
    }
   ],
   "source": [
    "import sympy\n",
    "from sympy import symbols, diff, lambdify\n",
    "\n",
    "x, y = symbols( 'x actual_y')\n",
    "fx = 3*x**2 - 4*x + 5\n",
    "\n",
    "print('f(x) =',  fx)\n",
    "\n",
    "dfx = sympy.diff(fx, x)\n",
    "print(dfx)\n",
    "\n",
    "evalx = lambdify([x], fx)\n",
    "print(evalx(3))\n",
    "\n",
    "evaldx = lambdify([x], dfx)\n",
    "print(evaldx(3))\n"
   ]
  },
  {
   "cell_type": "markdown",
   "id": "d441fbd3",
   "metadata": {},
   "source": [
    "What about the slope at -3.  Look at the slope of the graph above at that point."
   ]
  },
  {
   "cell_type": "code",
   "execution_count": 66,
   "id": "ade0d0f4",
   "metadata": {},
   "outputs": [
    {
     "name": "stdout",
     "output_type": "stream",
     "text": [
      "-22.000001820288162\n"
     ]
    }
   ],
   "source": [
    "# when h is too small, we run into floating point precision issues\n",
    "x = -3.0\n",
    "h = 0.000000001\n",
    "print((f(x + h) - f(x)) / h) # rise over run"
   ]
  },
  {
   "cell_type": "markdown",
   "id": "1556dd99",
   "metadata": {},
   "source": [
    "Looking at the graph we can see that the slope is at it's most minimal value at an x of just under somewhere between 0 and 1 so let's try an x value around there"
   ]
  },
  {
   "cell_type": "code",
   "execution_count": 67,
   "id": "7af4b4a3",
   "metadata": {},
   "outputs": [
    {
     "name": "stdout",
     "output_type": "stream",
     "text": [
      "-0.0666702248963702\n"
     ]
    }
   ],
   "source": [
    "x = 0.655555\n",
    "h = 0.000000001\n",
    "print((f(x + h) - f(x)) / h) # rise over run"
   ]
  },
  {
   "cell_type": "markdown",
   "id": "0b7fd933",
   "metadata": {},
   "source": [
    "The actual exact value of x with slope 0 is 2/3"
   ]
  },
  {
   "cell_type": "code",
   "execution_count": 68,
   "id": "904df071",
   "metadata": {},
   "outputs": [
    {
     "name": "stdout",
     "output_type": "stream",
     "text": [
      "0.0\n",
      "0.0002999999981767587\n",
      "-0.0002999999981767587\n"
     ]
    }
   ],
   "source": [
    "x = 2/3\n",
    "h = 0.000000001\n",
    "print((f(x + h) - f(x)) / h) # rise over run\n",
    "\n",
    "# nudge up a little bit and derivitive changes hardly at all\n",
    "h = 0.0001\n",
    "print((f(x + h) - f(x)) / h) # rise over run\n",
    "\n",
    "# same for nudging down\n",
    "h = -0.0001\n",
    "print((f(x + h) - f(x)) / h) # rise over run"
   ]
  },
  {
   "cell_type": "markdown",
   "id": "f7ef151a",
   "metadata": {},
   "source": [
    "## More complex example."
   ]
  },
  {
   "cell_type": "code",
   "execution_count": 69,
   "id": "1f7997fe",
   "metadata": {},
   "outputs": [
    {
     "name": "stdout",
     "output_type": "stream",
     "text": [
      "4.0\n"
     ]
    }
   ],
   "source": [
    "a = 2.0\n",
    "b = -3.0\n",
    "c = 10.0\n",
    "d = a * b + c\n",
    "print(d)"
   ]
  },
  {
   "cell_type": "code",
   "execution_count": 70,
   "id": "4a3db559",
   "metadata": {},
   "outputs": [
    {
     "name": "stdout",
     "output_type": "stream",
     "text": [
      "d1 4.0\n",
      "d2 3.999699999999999\n",
      "slope -3.000000000010772\n"
     ]
    }
   ],
   "source": [
    "h = 0.0001\n",
    "\n",
    "# a inputs\n",
    "a = 2.0\n",
    "b = -3.0\n",
    "c = 10.0\n",
    "\n",
    "d1 = a*b + c\n",
    "a = a + h\n",
    "d2 = a*b + c\n",
    "\n",
    "print('d1', d1)\n",
    "print('d2', d2)\n",
    "print('slope', (d2 - d1) / h) # since we nudged the a input, \n",
    "# the slope represents dd/da the derivative of d with respect to a"
   ]
  },
  {
   "cell_type": "markdown",
   "id": "1725de5b",
   "metadata": {},
   "source": [
    "Let's verify this using symbolic approach"
   ]
  },
  {
   "cell_type": "code",
   "execution_count": 71,
   "id": "f3689247",
   "metadata": {},
   "outputs": [
    {
     "name": "stdout",
     "output_type": "stream",
     "text": [
      "d = a*b + c\n",
      "dd/da = b\n",
      "Evaluate with 2, -3, 10: 4\n",
      "Calc dd/da with 2, -3, 10: -3\n"
     ]
    }
   ],
   "source": [
    "import sympy\n",
    "from sympy import symbols, diff, lambdify\n",
    "\n",
    "a, b, c = symbols( 'a b c')\n",
    "d = a * b + c\n",
    "\n",
    "print('d =',  d)\n",
    "\n",
    "ddwrtda = sympy.diff(d, a)\n",
    "print('dd/da =',  ddwrtda)\n",
    "\n",
    "evald = lambdify([a, b, c], d)\n",
    "print('Evaluate with 2, -3, 10:',evald(2, -3, 10))\n",
    "\n",
    "evaddwrtda = lambdify([a, b, c], ddwrtda)\n",
    "print('Calc dd/da with 2, -3, 10:', evaddwrtda(2, -3, 10))"
   ]
  },
  {
   "cell_type": "markdown",
   "id": "29abbded",
   "metadata": {},
   "source": [
    "## Let's build a way of expressing expression trees"
   ]
  },
  {
   "cell_type": "code",
   "execution_count": 72,
   "id": "8ddfe9bb",
   "metadata": {},
   "outputs": [
    {
     "name": "stdout",
     "output_type": "stream",
     "text": [
      "x:Value(data=2.0), y:Value(data=3.0)\n"
     ]
    }
   ],
   "source": [
    "class Value:\n",
    "    def __init__(self, data):\n",
    "        self.data = data\n",
    "    \n",
    "    def __repr__(self):\n",
    "        return f\"Value(data={self.data})\"\n",
    "    \n",
    "x = Value(2.0)\n",
    "y = Value(3.0)\n",
    "print(f'x:{x}, y:{y}')"
   ]
  },
  {
   "cell_type": "markdown",
   "id": "e20cbdd6",
   "metadata": {},
   "source": [
    "But, if we try and add x + y we would get an error, hence we need to add an overload for addition"
   ]
  },
  {
   "cell_type": "code",
   "execution_count": 73,
   "id": "db7af316",
   "metadata": {},
   "outputs": [
    {
     "name": "stdout",
     "output_type": "stream",
     "text": [
      "z:Value(data=5.0)\n"
     ]
    }
   ],
   "source": [
    "class Value:\n",
    "    def __init__(self, data):\n",
    "        self.data = data\n",
    "    \n",
    "    def __repr__(self):\n",
    "        return f\"Value(data={self.data})\"\n",
    "    \n",
    "    def __add__(self, other):\n",
    "        return Value(self.data + other.data)\n",
    "    \n",
    "x = Value(2.0)\n",
    "y = Value(3.0)\n",
    "z = x + y\n",
    "print(f'z:{z}')"
   ]
  },
  {
   "cell_type": "markdown",
   "id": "2001397c",
   "metadata": {},
   "source": [
    "Now multiply so that we can represent a*b+c"
   ]
  },
  {
   "cell_type": "code",
   "execution_count": 74,
   "id": "d009c44b",
   "metadata": {},
   "outputs": [
    {
     "name": "stdout",
     "output_type": "stream",
     "text": [
      "d:Value(data=4.0)\n"
     ]
    }
   ],
   "source": [
    "class Value:\n",
    "    def __init__(self, data):\n",
    "        self.data = data\n",
    "    \n",
    "    def __repr__(self):\n",
    "        return f\"Value(data={self.data})\"\n",
    "    \n",
    "    def __add__(self, other):\n",
    "        return Value(self.data + other.data)\n",
    "    \n",
    "    def __mul__(self, other):\n",
    "        return Value(self.data * other.data)\n",
    "\n",
    "a = Value(2.0)\n",
    "b = Value(-3.0) \n",
    "c  = Value(10.0)\n",
    "d = a * b + c\n",
    "print(f'd:{d}')"
   ]
  },
  {
   "cell_type": "markdown",
   "id": "f4622b23",
   "metadata": {},
   "source": [
    "In order to express the relationships between objects as an expression graph, we need a way of tracking the relationships between objects along with the operations that produced them."
   ]
  },
  {
   "cell_type": "code",
   "execution_count": 93,
   "id": "4111b66e",
   "metadata": {},
   "outputs": [
    {
     "name": "stdout",
     "output_type": "stream",
     "text": [
      "c children: {Value(data=10.0), Value(data=-6.0)}\n",
      "c op: +\n"
     ]
    }
   ],
   "source": [
    "class Value:\n",
    "    def __init__(self, data, _children=(), _op='', label=''):\n",
    "        self.data = data\n",
    "        self._prev = set(_children)\n",
    "        self._op = _op\n",
    "        self.label = label\n",
    "        self.grad = 0.0\n",
    "    \n",
    "    def __repr__(self):\n",
    "        return f\"Value(data={self.data})\"\n",
    "    \n",
    "    def __add__(self, other):\n",
    "        return Value(self.data + other.data, (self, other), '+')\n",
    "    \n",
    "    def __mul__(self, other):\n",
    "        return Value(self.data * other.data, (self, other), '*')\n",
    "\n",
    "a = Value(2.0, label='a')\n",
    "b = Value(-3.0, label='b')\n",
    "c = Value(10.0, label='c')\n",
    "e = a * b; e.label = 'e'\n",
    "d = e + c; d.label = 'd'\n",
    "f = Value(-2.0, label='f')\n",
    "L = d * f; L.label = 'L'\n",
    "print(f'c children: {d._prev}')\n",
    "print(f'c op: {d._op}')"
   ]
  },
  {
   "cell_type": "code",
   "execution_count": 106,
   "id": "73a1cfb0",
   "metadata": {},
   "outputs": [],
   "source": [
    "from graphviz import Digraph\n",
    "\n",
    "def trace(root):\n",
    "    nodes, edges = set(), set()\n",
    "    def build(v):\n",
    "        if v not in nodes:\n",
    "            nodes.add(v)\n",
    "            for child in v._prev:\n",
    "                edges.add((child, v))\n",
    "                build(child)\n",
    "    build(root)\n",
    "    return nodes, edges\n",
    "\n",
    "def draw_dot(root):\n",
    "    dot = Digraph(format='svg', graph_attr={'rankdir': 'LR'}) \n",
    "    nodes, edges = trace(root)\n",
    "    for n in nodes:\n",
    "        uid = str(id(n))\n",
    "        dot.node(name=uid, label=\"{ %s | data %.4f | grad %.4f }\" % (n.label, n.data, n.grad), shape='record')\n",
    "        if n._op:\n",
    "            dot.node(name=uid + n._op, label=n._op)\n",
    "            dot.edge(uid + n._op, uid)\n",
    "    for n1, n2 in edges:\n",
    "        dot.edge(str(id(n1)), str(id(n2)) + n2._op)\n",
    "    return dot\n"
   ]
  },
  {
   "cell_type": "code",
   "execution_count": null,
   "id": "d5dc6076",
   "metadata": {},
   "outputs": [
    {
     "data": {
      "image/svg+xml": [
       "<?xml version=\"1.0\" encoding=\"UTF-8\" standalone=\"no\"?>\n",
       "<!DOCTYPE svg PUBLIC \"-//W3C//DTD SVG 1.1//EN\"\n",
       " \"http://www.w3.org/Graphics/SVG/1.1/DTD/svg11.dtd\">\n",
       "<!-- Generated by graphviz version 13.1.2 (20250808.2320)\n",
       " -->\n",
       "<!-- Pages: 1 -->\n",
       "<svg width=\"1147pt\" height=\"128pt\"\n",
       " viewBox=\"0.00 0.00 1147.00 128.00\" xmlns=\"http://www.w3.org/2000/svg\" xmlns:xlink=\"http://www.w3.org/1999/xlink\">\n",
       "<g id=\"graph0\" class=\"graph\" transform=\"scale(1 1) rotate(0) translate(4 124)\">\n",
       "<polygon fill=\"white\" stroke=\"none\" points=\"-4,4 -4,-124 1142.5,-124 1142.5,4 -4,4\"/>\n",
       "<!-- 4658963504 -->\n",
       "<g id=\"node1\" class=\"node\">\n",
       "<title>4658963504</title>\n",
       "<polygon fill=\"none\" stroke=\"black\" points=\"948.75,-54.5 948.75,-90.5 1138.5,-90.5 1138.5,-54.5 948.75,-54.5\"/>\n",
       "<text xml:space=\"preserve\" text-anchor=\"middle\" x=\"960.88\" y=\"-67.7\" font-family=\"Times,serif\" font-size=\"14.00\">L</text>\n",
       "<polyline fill=\"none\" stroke=\"black\" points=\"973,-55 973,-90.5\"/>\n",
       "<text xml:space=\"preserve\" text-anchor=\"middle\" x=\"1015.12\" y=\"-67.7\" font-family=\"Times,serif\" font-size=\"14.00\">data &#45;8.0000</text>\n",
       "<polyline fill=\"none\" stroke=\"black\" points=\"1057.25,-55 1057.25,-90.5\"/>\n",
       "<text xml:space=\"preserve\" text-anchor=\"middle\" x=\"1097.88\" y=\"-67.7\" font-family=\"Times,serif\" font-size=\"14.00\">grad 1.0000</text>\n",
       "</g>\n",
       "<!-- 4658963504* -->\n",
       "<g id=\"node2\" class=\"node\">\n",
       "<title>4658963504*</title>\n",
       "<ellipse fill=\"none\" stroke=\"black\" cx=\"885.75\" cy=\"-72.5\" rx=\"27\" ry=\"18\"/>\n",
       "<text xml:space=\"preserve\" text-anchor=\"middle\" x=\"885.75\" y=\"-67.45\" font-family=\"Times,serif\" font-size=\"14.00\">*</text>\n",
       "</g>\n",
       "<!-- 4658963504*&#45;&gt;4658963504 -->\n",
       "<g id=\"edge1\" class=\"edge\">\n",
       "<title>4658963504*&#45;&gt;4658963504</title>\n",
       "<path fill=\"none\" stroke=\"black\" d=\"M913.19,-72.5C920.34,-72.5 928.53,-72.5 937.24,-72.5\"/>\n",
       "<polygon fill=\"black\" stroke=\"black\" points=\"937.01,-76 947.01,-72.5 937.01,-69 937.01,-76\"/>\n",
       "</g>\n",
       "<!-- 4658963024 -->\n",
       "<g id=\"node3\" class=\"node\">\n",
       "<title>4658963024</title>\n",
       "<polygon fill=\"none\" stroke=\"black\" points=\"315.38,-55.5 315.38,-91.5 507.38,-91.5 507.38,-55.5 315.38,-55.5\"/>\n",
       "<text xml:space=\"preserve\" text-anchor=\"middle\" x=\"326.38\" y=\"-68.7\" font-family=\"Times,serif\" font-size=\"14.00\">e</text>\n",
       "<polyline fill=\"none\" stroke=\"black\" points=\"337.38,-56 337.38,-91.5\"/>\n",
       "<text xml:space=\"preserve\" text-anchor=\"middle\" x=\"379.5\" y=\"-68.7\" font-family=\"Times,serif\" font-size=\"14.00\">data &#45;6.0000</text>\n",
       "<polyline fill=\"none\" stroke=\"black\" points=\"421.62,-56 421.62,-91.5\"/>\n",
       "<text xml:space=\"preserve\" text-anchor=\"middle\" x=\"464.5\" y=\"-68.7\" font-family=\"Times,serif\" font-size=\"14.00\">grad &#45;2.0000</text>\n",
       "</g>\n",
       "<!-- 4654907696+ -->\n",
       "<g id=\"node8\" class=\"node\">\n",
       "<title>4654907696+</title>\n",
       "<ellipse fill=\"none\" stroke=\"black\" cx=\"571.5\" cy=\"-45.5\" rx=\"27\" ry=\"18\"/>\n",
       "<text xml:space=\"preserve\" text-anchor=\"middle\" x=\"571.5\" y=\"-40.45\" font-family=\"Times,serif\" font-size=\"14.00\">+</text>\n",
       "</g>\n",
       "<!-- 4658963024&#45;&gt;4654907696+ -->\n",
       "<g id=\"edge8\" class=\"edge\">\n",
       "<title>4658963024&#45;&gt;4654907696+</title>\n",
       "<path fill=\"none\" stroke=\"black\" d=\"M507.55,-56.65C516.78,-55.01 525.7,-53.43 533.79,-52\"/>\n",
       "<polygon fill=\"black\" stroke=\"black\" points=\"534.24,-55.47 543.48,-50.28 533.02,-48.58 534.24,-55.47\"/>\n",
       "</g>\n",
       "<!-- 4658963024* -->\n",
       "<g id=\"node4\" class=\"node\">\n",
       "<title>4658963024*</title>\n",
       "<ellipse fill=\"none\" stroke=\"black\" cx=\"251.25\" cy=\"-73.5\" rx=\"27\" ry=\"18\"/>\n",
       "<text xml:space=\"preserve\" text-anchor=\"middle\" x=\"251.25\" y=\"-68.45\" font-family=\"Times,serif\" font-size=\"14.00\">*</text>\n",
       "</g>\n",
       "<!-- 4658963024*&#45;&gt;4658963024 -->\n",
       "<g id=\"edge2\" class=\"edge\">\n",
       "<title>4658963024*&#45;&gt;4658963024</title>\n",
       "<path fill=\"none\" stroke=\"black\" d=\"M278.72,-73.5C286.09,-73.5 294.59,-73.5 303.63,-73.5\"/>\n",
       "<polygon fill=\"black\" stroke=\"black\" points=\"303.39,-77 313.39,-73.5 303.39,-70 303.39,-77\"/>\n",
       "</g>\n",
       "<!-- 4654907552 -->\n",
       "<g id=\"node5\" class=\"node\">\n",
       "<title>4654907552</title>\n",
       "<polygon fill=\"none\" stroke=\"black\" points=\"635.62,-82.5 635.62,-118.5 821.62,-118.5 821.62,-82.5 635.62,-82.5\"/>\n",
       "<text xml:space=\"preserve\" text-anchor=\"middle\" x=\"645.88\" y=\"-95.7\" font-family=\"Times,serif\" font-size=\"14.00\">f</text>\n",
       "<polyline fill=\"none\" stroke=\"black\" points=\"656.12,-83 656.12,-118.5\"/>\n",
       "<text xml:space=\"preserve\" text-anchor=\"middle\" x=\"698.25\" y=\"-95.7\" font-family=\"Times,serif\" font-size=\"14.00\">data &#45;2.0000</text>\n",
       "<polyline fill=\"none\" stroke=\"black\" points=\"740.38,-83 740.38,-118.5\"/>\n",
       "<text xml:space=\"preserve\" text-anchor=\"middle\" x=\"781\" y=\"-95.7\" font-family=\"Times,serif\" font-size=\"14.00\">grad 4.0000</text>\n",
       "</g>\n",
       "<!-- 4654907552&#45;&gt;4658963504* -->\n",
       "<g id=\"edge6\" class=\"edge\">\n",
       "<title>4654907552&#45;&gt;4658963504*</title>\n",
       "<path fill=\"none\" stroke=\"black\" d=\"M822.1,-83.81C831.26,-82.16 840.12,-80.56 848.17,-79.1\"/>\n",
       "<polygon fill=\"black\" stroke=\"black\" points=\"848.59,-82.58 857.81,-77.36 847.34,-75.7 848.59,-82.58\"/>\n",
       "</g>\n",
       "<!-- 4658963648 -->\n",
       "<g id=\"node6\" class=\"node\">\n",
       "<title>4658963648</title>\n",
       "<polygon fill=\"none\" stroke=\"black\" points=\"0.38,-83.5 0.38,-119.5 187.88,-119.5 187.88,-83.5 0.38,-83.5\"/>\n",
       "<text xml:space=\"preserve\" text-anchor=\"middle\" x=\"11.38\" y=\"-96.7\" font-family=\"Times,serif\" font-size=\"14.00\">a</text>\n",
       "<polyline fill=\"none\" stroke=\"black\" points=\"22.38,-84 22.38,-119.5\"/>\n",
       "<text xml:space=\"preserve\" text-anchor=\"middle\" x=\"62.25\" y=\"-96.7\" font-family=\"Times,serif\" font-size=\"14.00\">data 2.0000</text>\n",
       "<polyline fill=\"none\" stroke=\"black\" points=\"102.12,-84 102.12,-119.5\"/>\n",
       "<text xml:space=\"preserve\" text-anchor=\"middle\" x=\"145\" y=\"-96.7\" font-family=\"Times,serif\" font-size=\"14.00\">grad &#45;6.0000</text>\n",
       "</g>\n",
       "<!-- 4658963648&#45;&gt;4658963024* -->\n",
       "<g id=\"edge4\" class=\"edge\">\n",
       "<title>4658963648&#45;&gt;4658963024*</title>\n",
       "<path fill=\"none\" stroke=\"black\" d=\"M188.05,-84.73C196.96,-83.12 205.59,-81.56 213.44,-80.14\"/>\n",
       "<polygon fill=\"black\" stroke=\"black\" points=\"213.99,-83.6 223.21,-78.38 212.75,-76.71 213.99,-83.6\"/>\n",
       "</g>\n",
       "<!-- 4654907696 -->\n",
       "<g id=\"node7\" class=\"node\">\n",
       "<title>4654907696</title>\n",
       "<polygon fill=\"none\" stroke=\"black\" points=\"634.5,-27.5 634.5,-63.5 822.75,-63.5 822.75,-27.5 634.5,-27.5\"/>\n",
       "<text xml:space=\"preserve\" text-anchor=\"middle\" x=\"645.88\" y=\"-40.7\" font-family=\"Times,serif\" font-size=\"14.00\">d</text>\n",
       "<polyline fill=\"none\" stroke=\"black\" points=\"657.25,-28 657.25,-63.5\"/>\n",
       "<text xml:space=\"preserve\" text-anchor=\"middle\" x=\"697.12\" y=\"-40.7\" font-family=\"Times,serif\" font-size=\"14.00\">data 4.0000</text>\n",
       "<polyline fill=\"none\" stroke=\"black\" points=\"737,-28 737,-63.5\"/>\n",
       "<text xml:space=\"preserve\" text-anchor=\"middle\" x=\"779.88\" y=\"-40.7\" font-family=\"Times,serif\" font-size=\"14.00\">grad &#45;2.0000</text>\n",
       "</g>\n",
       "<!-- 4654907696&#45;&gt;4658963504* -->\n",
       "<g id=\"edge5\" class=\"edge\">\n",
       "<title>4654907696&#45;&gt;4658963504*</title>\n",
       "<path fill=\"none\" stroke=\"black\" d=\"M822.99,-61.75C831.77,-63.28 840.27,-64.76 848.01,-66.1\"/>\n",
       "<polygon fill=\"black\" stroke=\"black\" points=\"847.16,-69.51 857.61,-67.78 848.36,-62.61 847.16,-69.51\"/>\n",
       "</g>\n",
       "<!-- 4654907696+&#45;&gt;4654907696 -->\n",
       "<g id=\"edge3\" class=\"edge\">\n",
       "<title>4654907696+&#45;&gt;4654907696</title>\n",
       "<path fill=\"none\" stroke=\"black\" d=\"M598.81,-45.5C605.99,-45.5 614.22,-45.5 622.97,-45.5\"/>\n",
       "<polygon fill=\"black\" stroke=\"black\" points=\"622.79,-49 632.79,-45.5 622.79,-42 622.79,-49\"/>\n",
       "</g>\n",
       "<!-- 4658963408 -->\n",
       "<g id=\"node9\" class=\"node\">\n",
       "<title>4658963408</title>\n",
       "<polygon fill=\"none\" stroke=\"black\" points=\"314.25,-0.5 314.25,-36.5 508.5,-36.5 508.5,-0.5 314.25,-0.5\"/>\n",
       "<text xml:space=\"preserve\" text-anchor=\"middle\" x=\"325.25\" y=\"-13.7\" font-family=\"Times,serif\" font-size=\"14.00\">c</text>\n",
       "<polyline fill=\"none\" stroke=\"black\" points=\"336.25,-1 336.25,-36.5\"/>\n",
       "<text xml:space=\"preserve\" text-anchor=\"middle\" x=\"379.5\" y=\"-13.7\" font-family=\"Times,serif\" font-size=\"14.00\">data 10.0000</text>\n",
       "<polyline fill=\"none\" stroke=\"black\" points=\"422.75,-1 422.75,-36.5\"/>\n",
       "<text xml:space=\"preserve\" text-anchor=\"middle\" x=\"465.62\" y=\"-13.7\" font-family=\"Times,serif\" font-size=\"14.00\">grad &#45;2.0000</text>\n",
       "</g>\n",
       "<!-- 4658963408&#45;&gt;4654907696+ -->\n",
       "<g id=\"edge7\" class=\"edge\">\n",
       "<title>4658963408&#45;&gt;4654907696+</title>\n",
       "<path fill=\"none\" stroke=\"black\" d=\"M508.91,-34.98C517.6,-36.47 526,-37.9 533.65,-39.21\"/>\n",
       "<polygon fill=\"black\" stroke=\"black\" points=\"533.05,-42.66 543.5,-40.89 534.23,-35.76 533.05,-42.66\"/>\n",
       "</g>\n",
       "<!-- 4658963936 -->\n",
       "<g id=\"node10\" class=\"node\">\n",
       "<title>4658963936</title>\n",
       "<polygon fill=\"none\" stroke=\"black\" points=\"0,-28.5 0,-64.5 188.25,-64.5 188.25,-28.5 0,-28.5\"/>\n",
       "<text xml:space=\"preserve\" text-anchor=\"middle\" x=\"11.38\" y=\"-41.7\" font-family=\"Times,serif\" font-size=\"14.00\">b</text>\n",
       "<polyline fill=\"none\" stroke=\"black\" points=\"22.75,-29 22.75,-64.5\"/>\n",
       "<text xml:space=\"preserve\" text-anchor=\"middle\" x=\"64.88\" y=\"-41.7\" font-family=\"Times,serif\" font-size=\"14.00\">data &#45;3.0000</text>\n",
       "<polyline fill=\"none\" stroke=\"black\" points=\"107,-29 107,-64.5\"/>\n",
       "<text xml:space=\"preserve\" text-anchor=\"middle\" x=\"147.62\" y=\"-41.7\" font-family=\"Times,serif\" font-size=\"14.00\">grad 4.0000</text>\n",
       "</g>\n",
       "<!-- 4658963936&#45;&gt;4658963024* -->\n",
       "<g id=\"edge9\" class=\"edge\">\n",
       "<title>4658963936&#45;&gt;4658963024*</title>\n",
       "<path fill=\"none\" stroke=\"black\" d=\"M188.49,-62.75C197.27,-64.28 205.77,-65.76 213.51,-67.1\"/>\n",
       "<polygon fill=\"black\" stroke=\"black\" points=\"212.66,-70.51 223.11,-68.78 213.86,-63.61 212.66,-70.51\"/>\n",
       "</g>\n",
       "</g>\n",
       "</svg>\n"
      ],
      "text/plain": [
       "<graphviz.graphs.Digraph at 0x11578de20>"
      ]
     },
     "execution_count": 128,
     "metadata": {},
     "output_type": "execute_result"
    }
   ],
   "source": [
    "L.grad = 1.0\n",
    "d.grad = -2.0\n",
    "f.grad = 4.0\n",
    "e.grad = -2.0\n",
    "c.grad = -2.0\n",
    "a.grad = 6.0\n",
    "b.grad = -4.0\n",
    "draw_dot(L)"
   ]
  },
  {
   "cell_type": "code",
   "execution_count": null,
   "id": "23fd6c71",
   "metadata": {},
   "outputs": [
    {
     "name": "stdout",
     "output_type": "stream",
     "text": [
      "6.000000000021544\n"
     ]
    }
   ],
   "source": [
    "def lol():\n",
    "    h = 0.0001\n",
    "\n",
    "    a = Value(2.0, label='a')\n",
    "    b = Value(-3.0, label='b')\n",
    "    c = Value(10.0, label='c')\n",
    "    e = a * b; e.label = 'e'\n",
    "    d = e + c; d.label = 'd'\n",
    "    f = Value(-2.0, label='f')\n",
    "    L = d * f; L.label = 'L'\n",
    "    L1 = L\n",
    "    \n",
    "    a = Value(2.0, label='a')\n",
    "    # a = a + Value(h) # dL/da again due to chain \n",
    "    b = Value(-3.0, label='b')\n",
    "    # b = b + Value(h) # dL/db\n",
    "    c = Value(10.0, label='c')\n",
    "    # c = c + Value(h) # dL/dc # due to chain rule since L depends on d which depends on c\n",
    "    # see n Leibniz's notation on wikipedia and intuitive explanation with bycicle and car\n",
    "    e = a * b; e.label = 'e'\n",
    "    d = e + c; d.label = 'd'\n",
    "    # d = d + Value(h) # dL/dd\n",
    "    #f = f + Value(h) # dL/df\n",
    "    L = d * f; L.label = 'L'\n",
    "    # L2 = L + Value(h) # dL/dL\n",
    "    L2 = L\n",
    "\n",
    "    print((L2.data - L1.data) / h) # rise over run\n",
    "\n",
    "lol()"
   ]
  },
  {
   "cell_type": "markdown",
   "id": "9bb82dbc",
   "metadata": {},
   "source": [
    "Now look at a neuron.\n",
    "\n",
    "For a neuron with tanh activation function:\n",
    "\n",
    "$$\n",
    "y = \\tanh(w_1x_1 + w_2x_2 + b)\n",
    "$$\n",
    "\n",
    "Where:\n",
    "- $x_1, x_2$ are the inputs\n",
    "- $w_1, w_2$ are the weights  \n",
    "- $b$ is the bias\n",
    "- $y$ is the output\n",
    "\n",
    "The computation can be broken down into steps:\n",
    "1. Linear combination: $z = w_1x_1 + w_2x_2 + b$\n",
    "2. Activation: $y = \\tanh(z)$\n",
    "\n",
    "The activation function squashes and clamps values.  Here is what tanh looks like:"
   ]
  },
  {
   "cell_type": "code",
   "execution_count": null,
   "id": "2da5521c",
   "metadata": {},
   "outputs": [
    {
     "data": {
      "image/png": "[encoded data removed]",
      "text/plain": [
       "<Figure size 640x480 with 1 Axes>"
      ]
     },
     "metadata": {},
     "output_type": "display_data"
    }
   ],
   "source": [
    "plt.plot(np.arange(-5, 5, 0.2), np.tanh(np.arange(-5, 5, 0.2))); plt.grid()"
   ]
  },
  {
   "cell_type": "code",
   "execution_count": 143,
   "id": "710e3811",
   "metadata": {},
   "outputs": [
    {
     "data": {
      "image/png": "[encoded data removed]",
      "text/plain": [
       "<Figure size 640x480 with 1 Axes>"
      ]
     },
     "metadata": {},
     "output_type": "display_data"
    }
   ],
   "source": [
    "def sigmoid(x):\n",
    "    return 1 / (1 + np.exp(-x))\n",
    "\n",
    "plt.plot(np.arange(-5, 5, 0.2), sigmoid(np.arange(-5, 5, 0.2))); plt.grid()"
   ]
  }
 ],
 "metadata": {
  "kernelspec": {
   "display_name": "Python 3",
   "language": "python",
   "name": "python3"
  },
  "language_info": {
   "codemirror_mode": {
    "name": "ipython",
    "version": 3
   },
   "file_extension": ".py",
   "mimetype": "text/x-python",
   "name": "python",
   "nbconvert_exporter": "python",
   "pygments_lexer": "ipython3",
   "version": "3.9.6"
  }
 },
 "nbformat": 4,
 "nbformat_minor": 5
}
