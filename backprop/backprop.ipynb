{
 "cells": [
  {
   "cell_type": "markdown",
   "id": "a4525faa",
   "metadata": {},
   "source": [
    "## Backpropagation.\n",
    "\n",
    "Efficiently evaluate the gradient of a loss function with respect to the weights of a neural network.  Enables iterative tuning of weights of NN to minimize loss function and improve accuracy of the NN."
   ]
  },
  {
   "cell_type": "code",
   "execution_count": null,
   "id": "c33d7bc0",
   "metadata": {},
   "outputs": [],
   "source": []
  }
 ],
 "metadata": {
  "language_info": {
   "name": "python"
  }
 },
 "nbformat": 4,
 "nbformat_minor": 5
}
