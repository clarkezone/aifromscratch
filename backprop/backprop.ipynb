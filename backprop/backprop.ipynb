{
 "cells": [
  {
   "cell_type": "markdown",
   "id": "a4525faa",
   "metadata": {},
   "source": [
    "## Backpropagation.\n",
    "\n",
    "Efficiently evaluate the gradient of a loss function with respect to the weights of a neural network.  Enables iterative tuning of weights of NN to minimize loss function and improve accuracy of the NN."
   ]
  },
  {
   "cell_type": "code",
   "execution_count": null,
   "id": "3d26cf58",
   "metadata": {},
   "outputs": [],
   "source": [
    "%pip install numpy \n",
    "%pip install matplotlib\n",
    "%pip install sympy\n",
    "%pip install graphviz\n",
    "# note also need to brew install graphviz or eqivalent for your OS"
   ]
  },
  {
   "cell_type": "markdown",
   "id": "068ec9d6",
   "metadata": {},
   "source": [
    "Define the function\n",
    "\n",
    "$$\n",
    "f(x) = 3x^2 - 4x + 5\n",
    "$$\n",
    "\n",
    "add call it with x = 3\n",
    "\n",
    "The plot from -5 to 5 in steps of 0.25"
   ]
  },
  {
   "cell_type": "code",
   "execution_count": 63,
   "id": "544a0ff8",
   "metadata": {},
   "outputs": [
    {
     "data": {
      "text/plain": [
       "[<matplotlib.lines.Line2D at 0x115512310>]"
      ]
     },
     "execution_count": 63,
     "metadata": {},
     "output_type": "execute_result"
    },
    {
     "data": {
      "image/png": "[encoded data removed]",
      "text/plain": [
       "<Figure size 640x480 with 1 Axes>"
      ]
     },
     "metadata": {},
     "output_type": "display_data"
    }
   ],
   "source": [
    "import math\n",
    "import numpy as np\n",
    "import matplotlib.pyplot as plt\n",
    "%matplotlib inline\n",
    "\n",
    "def f(x):\n",
    "    return 3*x**2 - 4*x + 5\n",
    "\n",
    "f(3.0)\n",
    "\n",
    "xs = np.arange(-5, 5, 0.25)\n",
    "ys = f(xs)\n",
    "plt.plot(xs, ys)"
   ]
  },
  {
   "cell_type": "markdown",
   "id": "8e80f7b5",
   "metadata": {},
   "source": [
    "## Approximating the derivative\n",
    "\n",
    "Instead of a symbolic approach we can use a numerical approximation\n",
    "\n",
    "Newton's difference quotient (the definition of a derivative):\n",
    "\n",
    "$$\n",
    "f'(x) = \\lim_{h \\to 0} \\frac{f(x+h) - f(x)}{h}\n",
    "$$\n",
    "\n",
    "For numerical approximation, we use a small value of $h$:\n",
    "\n",
    "$$\n",
    "f'(x) \\approx \\frac{f(x+h) - f(x)}{h}\n",
    "$$\n",
    "\n",
    "For a function x, if you slightly increase the input by h, how does the function respond, with what sensitivity, what is the slope of the response.\n",
    "\n",
    "To evaluate the derivitve, take a small h."
   ]
  },
  {
   "cell_type": "code",
   "execution_count": 64,
   "id": "46a2c393",
   "metadata": {},
   "outputs": [
    {
     "name": "stdout",
     "output_type": "stream",
     "text": [
      "14.00300000000243\n",
      "14.00000009255109\n",
      "0.0\n"
     ]
    }
   ],
   "source": [
    "h = 0.001\n",
    "x = 3.0\n",
    "print((f(x + h) - f(x)) / h) # rise over run\n",
    "\n",
    "# make h very small in order to converge on the actual derivative\n",
    "\n",
    "# Look at above graph where x is 3.0 and look at the shape as x increases\n",
    "# you can see it is going up very steeply\n",
    "# so we expect the derivative to be a large positive number\n",
    "\n",
    "x = 3.0\n",
    "h = 0.00000001 # increase x very slightly with the delta h...\n",
    "\n",
    "print((f(x + h) - f(x)) / h) # rise over run\n",
    "\n",
    "# when h is too small, we run into floating point precision issues\n",
    "x = 3.0\n",
    "h = 0.0000000000000000000001\n",
    "print((f(x + h) - f(x)) / h) # rise over run\n",
    "\n",
    "# at 3.0, the derivative is 14.0 which means the slope of the tangent line is 14.0\n"
   ]
  },
  {
   "cell_type": "markdown",
   "id": "cc6a3083",
   "metadata": {},
   "source": [
    "Now let's validate the numerical approximation with a symbolic approach using the 'sympy' library."
   ]
  },
  {
   "cell_type": "code",
   "execution_count": 65,
   "id": "2390da61",
   "metadata": {},
   "outputs": [
    {
     "name": "stdout",
     "output_type": "stream",
     "text": [
      "f(x) = 3*x**2 - 4*x + 5\n",
      "6*x - 4\n",
      "20\n",
      "14\n"
     ]
    }
   ],
   "source": [
    "import sympy\n",
    "from sympy import symbols, diff, lambdify\n",
    "\n",
    "x, y = symbols( 'x actual_y')\n",
    "fx = 3*x**2 - 4*x + 5\n",
    "\n",
    "print('f(x) =',  fx)\n",
    "\n",
    "dfx = sympy.diff(fx, x)\n",
    "print(dfx)\n",
    "\n",
    "evalx = lambdify([x], fx)\n",
    "print(evalx(3))\n",
    "\n",
    "evaldx = lambdify([x], dfx)\n",
    "print(evaldx(3))\n"
   ]
  },
  {
   "cell_type": "markdown",
   "id": "d441fbd3",
   "metadata": {},
   "source": [
    "What about the slope at -3.  Look at the slope of the graph above at that point."
   ]
  },
  {
   "cell_type": "code",
   "execution_count": 66,
   "id": "ade0d0f4",
   "metadata": {},
   "outputs": [
    {
     "name": "stdout",
     "output_type": "stream",
     "text": [
      "-22.000001820288162\n"
     ]
    }
   ],
   "source": [
    "# when h is too small, we run into floating point precision issues\n",
    "x = -3.0\n",
    "h = 0.000000001\n",
    "print((f(x + h) - f(x)) / h) # rise over run"
   ]
  },
  {
   "cell_type": "markdown",
   "id": "1556dd99",
   "metadata": {},
   "source": [
    "Looking at the graph we can see that the slope is at it's most minimal value at an x of just under somewhere between 0 and 1 so let's try an x value around there"
   ]
  },
  {
   "cell_type": "code",
   "execution_count": 67,
   "id": "7af4b4a3",
   "metadata": {},
   "outputs": [
    {
     "name": "stdout",
     "output_type": "stream",
     "text": [
      "-0.0666702248963702\n"
     ]
    }
   ],
   "source": [
    "x = 0.655555\n",
    "h = 0.000000001\n",
    "print((f(x + h) - f(x)) / h) # rise over run"
   ]
  },
  {
   "cell_type": "markdown",
   "id": "0b7fd933",
   "metadata": {},
   "source": [
    "The actual exact value of x with slope 0 is 2/3"
   ]
  },
  {
   "cell_type": "code",
   "execution_count": 68,
   "id": "904df071",
   "metadata": {},
   "outputs": [
    {
     "name": "stdout",
     "output_type": "stream",
     "text": [
      "0.0\n",
      "0.0002999999981767587\n",
      "-0.0002999999981767587\n"
     ]
    }
   ],
   "source": [
    "x = 2/3\n",
    "h = 0.000000001\n",
    "print((f(x + h) - f(x)) / h) # rise over run\n",
    "\n",
    "# nudge up a little bit and derivitive changes hardly at all\n",
    "h = 0.0001\n",
    "print((f(x + h) - f(x)) / h) # rise over run\n",
    "\n",
    "# same for nudging down\n",
    "h = -0.0001\n",
    "print((f(x + h) - f(x)) / h) # rise over run"
   ]
  },
  {
   "cell_type": "markdown",
   "id": "f7ef151a",
   "metadata": {},
   "source": [
    "## More complex example."
   ]
  },
  {
   "cell_type": "code",
   "execution_count": 69,
   "id": "1f7997fe",
   "metadata": {},
   "outputs": [
    {
     "name": "stdout",
     "output_type": "stream",
     "text": [
      "4.0\n"
     ]
    }
   ],
   "source": [
    "a = 2.0\n",
    "b = -3.0\n",
    "c = 10.0\n",
    "d = a * b + c\n",
    "print(d)"
   ]
  },
  {
   "cell_type": "code",
   "execution_count": 70,
   "id": "4a3db559",
   "metadata": {},
   "outputs": [
    {
     "name": "stdout",
     "output_type": "stream",
     "text": [
      "d1 4.0\n",
      "d2 3.999699999999999\n",
      "slope -3.000000000010772\n"
     ]
    }
   ],
   "source": [
    "h = 0.0001\n",
    "\n",
    "# a inputs\n",
    "a = 2.0\n",
    "b = -3.0\n",
    "c = 10.0\n",
    "\n",
    "d1 = a*b + c\n",
    "a = a + h\n",
    "d2 = a*b + c\n",
    "\n",
    "print('d1', d1)\n",
    "print('d2', d2)\n",
    "print('slope', (d2 - d1) / h) # since we nudged the a input, \n",
    "# the slope represents dd/da the derivative of d with respect to a"
   ]
  },
  {
   "cell_type": "markdown",
   "id": "1725de5b",
   "metadata": {},
   "source": [
    "Let's verify this using symbolic approach"
   ]
  },
  {
   "cell_type": "code",
   "execution_count": 71,
   "id": "f3689247",
   "metadata": {},
   "outputs": [
    {
     "name": "stdout",
     "output_type": "stream",
     "text": [
      "d = a*b + c\n",
      "dd/da = b\n",
      "Evaluate with 2, -3, 10: 4\n",
      "Calc dd/da with 2, -3, 10: -3\n"
     ]
    }
   ],
   "source": [
    "import sympy\n",
    "from sympy import symbols, diff, lambdify\n",
    "\n",
    "a, b, c = symbols( 'a b c')\n",
    "d = a * b + c\n",
    "\n",
    "print('d =',  d)\n",
    "\n",
    "ddwrtda = sympy.diff(d, a)\n",
    "print('dd/da =',  ddwrtda)\n",
    "\n",
    "evald = lambdify([a, b, c], d)\n",
    "print('Evaluate with 2, -3, 10:',evald(2, -3, 10))\n",
    "\n",
    "evaddwrtda = lambdify([a, b, c], ddwrtda)\n",
    "print('Calc dd/da with 2, -3, 10:', evaddwrtda(2, -3, 10))"
   ]
  },
  {
   "cell_type": "markdown",
   "id": "29abbded",
   "metadata": {},
   "source": [
    "## Let's build a way of expressing expression trees"
   ]
  },
  {
   "cell_type": "code",
   "execution_count": 72,
   "id": "8ddfe9bb",
   "metadata": {},
   "outputs": [
    {
     "name": "stdout",
     "output_type": "stream",
     "text": [
      "x:Value(data=2.0), y:Value(data=3.0)\n"
     ]
    }
   ],
   "source": [
    "class Value:\n",
    "    def __init__(self, data):\n",
    "        self.data = data\n",
    "    \n",
    "    def __repr__(self):\n",
    "        return f\"Value(data={self.data})\"\n",
    "    \n",
    "x = Value(2.0)\n",
    "y = Value(3.0)\n",
    "print(f'x:{x}, y:{y}')"
   ]
  },
  {
   "cell_type": "markdown",
   "id": "e20cbdd6",
   "metadata": {},
   "source": [
    "But, if we try and add x + y we would get an error, hence we need to add an overload for addition"
   ]
  },
  {
   "cell_type": "code",
   "execution_count": 73,
   "id": "db7af316",
   "metadata": {},
   "outputs": [
    {
     "name": "stdout",
     "output_type": "stream",
     "text": [
      "z:Value(data=5.0)\n"
     ]
    }
   ],
   "source": [
    "class Value:\n",
    "    def __init__(self, data):\n",
    "        self.data = data\n",
    "    \n",
    "    def __repr__(self):\n",
    "        return f\"Value(data={self.data})\"\n",
    "    \n",
    "    def __add__(self, other):\n",
    "        return Value(self.data + other.data)\n",
    "    \n",
    "x = Value(2.0)\n",
    "y = Value(3.0)\n",
    "z = x + y\n",
    "print(f'z:{z}')"
   ]
  },
  {
   "cell_type": "markdown",
   "id": "2001397c",
   "metadata": {},
   "source": [
    "Now multiply so that we can represent a*b+c"
   ]
  },
  {
   "cell_type": "code",
   "execution_count": 74,
   "id": "d009c44b",
   "metadata": {},
   "outputs": [
    {
     "name": "stdout",
     "output_type": "stream",
     "text": [
      "d:Value(data=4.0)\n"
     ]
    }
   ],
   "source": [
    "class Value:\n",
    "    def __init__(self, data):\n",
    "        self.data = data\n",
    "    \n",
    "    def __repr__(self):\n",
    "        return f\"Value(data={self.data})\"\n",
    "    \n",
    "    def __add__(self, other):\n",
    "        return Value(self.data + other.data)\n",
    "    \n",
    "    def __mul__(self, other):\n",
    "        return Value(self.data * other.data)\n",
    "\n",
    "a = Value(2.0)\n",
    "b = Value(-3.0) \n",
    "c  = Value(10.0)\n",
    "d = a * b + c\n",
    "print(f'd:{d}')"
   ]
  },
  {
   "cell_type": "markdown",
   "id": "f4622b23",
   "metadata": {},
   "source": [
    "In order to express the relationships between objects as an expression graph, we need a way of tracking the relationships between objects along with the operations that produced them."
   ]
  },
  {
   "cell_type": "code",
   "execution_count": null,
   "id": "4111b66e",
   "metadata": {},
   "outputs": [
    {
     "name": "stdout",
     "output_type": "stream",
     "text": [
      "c children: {Value(data=-6.0), Value(data=10.0)}\n",
      "c op: +\n"
     ]
    }
   ],
   "source": [
    "class Value:\n",
    "    def __init__(self, data, _children=(), _op='', label=''):\n",
    "        self.data = data\n",
    "        self._prev = set(_children)\n",
    "        self._op = _op\n",
    "        self.label = label\n",
    "        self.grad = 0.0\n",
    "    \n",
    "    def __repr__(self):\n",
    "        return f\"Value(data={self.data})\"\n",
    "    \n",
    "    def __add__(self, other):\n",
    "        return Value(self.data + other.data, (self, other), '+')\n",
    "    \n",
    "    def __mul__(self, other):\n",
    "        return Value(self.data * other.data, (self, other), '*')\n",
    "\n",
    "   # see hyperbolic functions, exponential definitions: https://en.wikipedia.org/wiki/Hyperbolic_functions \n",
    "    def tanh(self):\n",
    "        x = self.data\n",
    "        t = (math.exp(2*x) - 1)/(math.exp(2*x) + 1)\n",
    "        out = Value(t, (self, ), 'tanh')\n",
    "        return out\n",
    "\n",
    "a = Value(2.0, label='a')\n",
    "b = Value(-3.0, label='b')\n",
    "c = Value(10.0, label='c')\n",
    "e = a * b; e.label = 'e'\n",
    "d = e + c; d.label = 'd'\n",
    "f = Value(-2.0, label='f')\n",
    "L = d * f; L.label = 'L'\n",
    "print(f'c children: {d._prev}')\n",
    "print(f'c op: {d._op}')"
   ]
  },
  {
   "cell_type": "code",
   "execution_count": 148,
   "id": "73a1cfb0",
   "metadata": {},
   "outputs": [],
   "source": [
    "from graphviz import Digraph\n",
    "\n",
    "def trace(root):\n",
    "    nodes, edges = set(), set()\n",
    "    def build(v):\n",
    "        if v not in nodes:\n",
    "            nodes.add(v)\n",
    "            for child in v._prev:\n",
    "                edges.add((child, v))\n",
    "                build(child)\n",
    "    build(root)\n",
    "    return nodes, edges\n",
    "\n",
    "def draw_dot(root):\n",
    "    dot = Digraph(format='svg', graph_attr={'rankdir': 'LR'}) \n",
    "    nodes, edges = trace(root)\n",
    "    for n in nodes:\n",
    "        uid = str(id(n))\n",
    "        dot.node(name=uid, label=\"{ %s | data %.4f | grad %.4f }\" % (n.label, n.data, n.grad), shape='record')\n",
    "        if n._op:\n",
    "            dot.node(name=uid + n._op, label=n._op)\n",
    "            dot.edge(uid + n._op, uid)\n",
    "    for n1, n2 in edges:\n",
    "        dot.edge(str(id(n1)), str(id(n2)) + n2._op)\n",
    "    return dot\n"
   ]
  },
  {
   "cell_type": "code",
   "execution_count": 149,
   "id": "d5dc6076",
   "metadata": {},
   "outputs": [
    {
     "data": {
      "image/svg+xml": [
       "<?xml version=\"1.0\" encoding=\"UTF-8\" standalone=\"no\"?>\n",
       "<!DOCTYPE svg PUBLIC \"-//W3C//DTD SVG 1.1//EN\"\n",
       " \"http://www.w3.org/Graphics/SVG/1.1/DTD/svg11.dtd\">\n",
       "<!-- Generated by graphviz version 13.1.2 (20250808.2320)\n",
       " -->\n",
       "<!-- Pages: 1 -->\n",
       "<svg width=\"1151pt\" height=\"156pt\"\n",
       " viewBox=\"0.00 0.00 1151.00 156.00\" xmlns=\"http://www.w3.org/2000/svg\" xmlns:xlink=\"http://www.w3.org/1999/xlink\">\n",
       "<g id=\"graph0\" class=\"graph\" transform=\"scale(1 1) rotate(0) translate(4 152)\">\n",
       "<polygon fill=\"white\" stroke=\"none\" points=\"-4,4 -4,-152 1147,-152 1147,4 -4,4\"/>\n",
       "<!-- 4663217360 -->\n",
       "<g id=\"node1\" class=\"node\">\n",
       "<title>4663217360</title>\n",
       "<polygon fill=\"none\" stroke=\"black\" points=\"4.88,-111.5 4.88,-147.5 187.88,-147.5 187.88,-111.5 4.88,-111.5\"/>\n",
       "<text xml:space=\"preserve\" text-anchor=\"middle\" x=\"15.88\" y=\"-124.7\" font-family=\"Times,serif\" font-size=\"14.00\">a</text>\n",
       "<polyline fill=\"none\" stroke=\"black\" points=\"26.88,-112 26.88,-147.5\"/>\n",
       "<text xml:space=\"preserve\" text-anchor=\"middle\" x=\"66.75\" y=\"-124.7\" font-family=\"Times,serif\" font-size=\"14.00\">data 2.0000</text>\n",
       "<polyline fill=\"none\" stroke=\"black\" points=\"106.62,-112 106.62,-147.5\"/>\n",
       "<text xml:space=\"preserve\" text-anchor=\"middle\" x=\"147.25\" y=\"-124.7\" font-family=\"Times,serif\" font-size=\"14.00\">grad 6.0000</text>\n",
       "</g>\n",
       "<!-- 4663214336* -->\n",
       "<g id=\"node3\" class=\"node\">\n",
       "<title>4663214336*</title>\n",
       "<ellipse fill=\"none\" stroke=\"black\" cx=\"255.75\" cy=\"-101.5\" rx=\"27\" ry=\"18\"/>\n",
       "<text xml:space=\"preserve\" text-anchor=\"middle\" x=\"255.75\" y=\"-96.45\" font-family=\"Times,serif\" font-size=\"14.00\">*</text>\n",
       "</g>\n",
       "<!-- 4663217360&#45;&gt;4663214336* -->\n",
       "<g id=\"edge4\" class=\"edge\">\n",
       "<title>4663217360&#45;&gt;4663214336*</title>\n",
       "<path fill=\"none\" stroke=\"black\" d=\"M188.01,-113.37C198.67,-111.48 209.04,-109.63 218.3,-107.99\"/>\n",
       "<polygon fill=\"black\" stroke=\"black\" points=\"218.65,-111.48 227.88,-106.28 217.42,-104.59 218.65,-111.48\"/>\n",
       "</g>\n",
       "<!-- 4663214336 -->\n",
       "<g id=\"node2\" class=\"node\">\n",
       "<title>4663214336</title>\n",
       "<polygon fill=\"none\" stroke=\"black\" points=\"319.88,-83.5 319.88,-119.5 511.88,-119.5 511.88,-83.5 319.88,-83.5\"/>\n",
       "<text xml:space=\"preserve\" text-anchor=\"middle\" x=\"330.88\" y=\"-96.7\" font-family=\"Times,serif\" font-size=\"14.00\">e</text>\n",
       "<polyline fill=\"none\" stroke=\"black\" points=\"341.88,-84 341.88,-119.5\"/>\n",
       "<text xml:space=\"preserve\" text-anchor=\"middle\" x=\"384\" y=\"-96.7\" font-family=\"Times,serif\" font-size=\"14.00\">data &#45;6.0000</text>\n",
       "<polyline fill=\"none\" stroke=\"black\" points=\"426.12,-84 426.12,-119.5\"/>\n",
       "<text xml:space=\"preserve\" text-anchor=\"middle\" x=\"469\" y=\"-96.7\" font-family=\"Times,serif\" font-size=\"14.00\">grad &#45;2.0000</text>\n",
       "</g>\n",
       "<!-- 4662050720+ -->\n",
       "<g id=\"node7\" class=\"node\">\n",
       "<title>4662050720+</title>\n",
       "<ellipse fill=\"none\" stroke=\"black\" cx=\"576\" cy=\"-73.5\" rx=\"27\" ry=\"18\"/>\n",
       "<text xml:space=\"preserve\" text-anchor=\"middle\" x=\"576\" y=\"-68.45\" font-family=\"Times,serif\" font-size=\"14.00\">+</text>\n",
       "</g>\n",
       "<!-- 4663214336&#45;&gt;4662050720+ -->\n",
       "<g id=\"edge7\" class=\"edge\">\n",
       "<title>4663214336&#45;&gt;4662050720+</title>\n",
       "<path fill=\"none\" stroke=\"black\" d=\"M512.05,-84.65C521.28,-83.01 530.2,-81.43 538.29,-80\"/>\n",
       "<polygon fill=\"black\" stroke=\"black\" points=\"538.74,-83.47 547.98,-78.28 537.52,-76.58 538.74,-83.47\"/>\n",
       "</g>\n",
       "<!-- 4663214336*&#45;&gt;4663214336 -->\n",
       "<g id=\"edge1\" class=\"edge\">\n",
       "<title>4663214336*&#45;&gt;4663214336</title>\n",
       "<path fill=\"none\" stroke=\"black\" d=\"M283.22,-101.5C290.59,-101.5 299.09,-101.5 308.13,-101.5\"/>\n",
       "<polygon fill=\"black\" stroke=\"black\" points=\"307.89,-105 317.89,-101.5 307.89,-98 307.89,-105\"/>\n",
       "</g>\n",
       "<!-- 4661755184 -->\n",
       "<g id=\"node4\" class=\"node\">\n",
       "<title>4661755184</title>\n",
       "<polygon fill=\"none\" stroke=\"black\" points=\"640.12,-0.5 640.12,-36.5 826.12,-36.5 826.12,-0.5 640.12,-0.5\"/>\n",
       "<text xml:space=\"preserve\" text-anchor=\"middle\" x=\"650.38\" y=\"-13.7\" font-family=\"Times,serif\" font-size=\"14.00\">f</text>\n",
       "<polyline fill=\"none\" stroke=\"black\" points=\"660.62,-1 660.62,-36.5\"/>\n",
       "<text xml:space=\"preserve\" text-anchor=\"middle\" x=\"702.75\" y=\"-13.7\" font-family=\"Times,serif\" font-size=\"14.00\">data &#45;2.0000</text>\n",
       "<polyline fill=\"none\" stroke=\"black\" points=\"744.88,-1 744.88,-36.5\"/>\n",
       "<text xml:space=\"preserve\" text-anchor=\"middle\" x=\"785.5\" y=\"-13.7\" font-family=\"Times,serif\" font-size=\"14.00\">grad 4.0000</text>\n",
       "</g>\n",
       "<!-- 4662223344* -->\n",
       "<g id=\"node10\" class=\"node\">\n",
       "<title>4662223344*</title>\n",
       "<ellipse fill=\"none\" stroke=\"black\" cx=\"890.25\" cy=\"-45.5\" rx=\"27\" ry=\"18\"/>\n",
       "<text xml:space=\"preserve\" text-anchor=\"middle\" x=\"890.25\" y=\"-40.45\" font-family=\"Times,serif\" font-size=\"14.00\">*</text>\n",
       "</g>\n",
       "<!-- 4661755184&#45;&gt;4662223344* -->\n",
       "<g id=\"edge5\" class=\"edge\">\n",
       "<title>4661755184&#45;&gt;4662223344*</title>\n",
       "<path fill=\"none\" stroke=\"black\" d=\"M826.6,-34.6C835.76,-36.19 844.62,-37.73 852.67,-39.13\"/>\n",
       "<polygon fill=\"black\" stroke=\"black\" points=\"851.85,-42.54 862.3,-40.81 853.05,-35.65 851.85,-42.54\"/>\n",
       "</g>\n",
       "<!-- 4663217552 -->\n",
       "<g id=\"node5\" class=\"node\">\n",
       "<title>4663217552</title>\n",
       "<polygon fill=\"none\" stroke=\"black\" points=\"318.75,-28.5 318.75,-64.5 513,-64.5 513,-28.5 318.75,-28.5\"/>\n",
       "<text xml:space=\"preserve\" text-anchor=\"middle\" x=\"329.75\" y=\"-41.7\" font-family=\"Times,serif\" font-size=\"14.00\">c</text>\n",
       "<polyline fill=\"none\" stroke=\"black\" points=\"340.75,-29 340.75,-64.5\"/>\n",
       "<text xml:space=\"preserve\" text-anchor=\"middle\" x=\"384\" y=\"-41.7\" font-family=\"Times,serif\" font-size=\"14.00\">data 10.0000</text>\n",
       "<polyline fill=\"none\" stroke=\"black\" points=\"427.25,-29 427.25,-64.5\"/>\n",
       "<text xml:space=\"preserve\" text-anchor=\"middle\" x=\"470.12\" y=\"-41.7\" font-family=\"Times,serif\" font-size=\"14.00\">grad &#45;2.0000</text>\n",
       "</g>\n",
       "<!-- 4663217552&#45;&gt;4662050720+ -->\n",
       "<g id=\"edge8\" class=\"edge\">\n",
       "<title>4663217552&#45;&gt;4662050720+</title>\n",
       "<path fill=\"none\" stroke=\"black\" d=\"M513.41,-62.98C522.1,-64.47 530.5,-65.9 538.15,-67.21\"/>\n",
       "<polygon fill=\"black\" stroke=\"black\" points=\"537.55,-70.66 548,-68.89 538.73,-63.76 537.55,-70.66\"/>\n",
       "</g>\n",
       "<!-- 4662050720 -->\n",
       "<g id=\"node6\" class=\"node\">\n",
       "<title>4662050720</title>\n",
       "<polygon fill=\"none\" stroke=\"black\" points=\"639,-55.5 639,-91.5 827.25,-91.5 827.25,-55.5 639,-55.5\"/>\n",
       "<text xml:space=\"preserve\" text-anchor=\"middle\" x=\"650.38\" y=\"-68.7\" font-family=\"Times,serif\" font-size=\"14.00\">d</text>\n",
       "<polyline fill=\"none\" stroke=\"black\" points=\"661.75,-56 661.75,-91.5\"/>\n",
       "<text xml:space=\"preserve\" text-anchor=\"middle\" x=\"701.62\" y=\"-68.7\" font-family=\"Times,serif\" font-size=\"14.00\">data 4.0000</text>\n",
       "<polyline fill=\"none\" stroke=\"black\" points=\"741.5,-56 741.5,-91.5\"/>\n",
       "<text xml:space=\"preserve\" text-anchor=\"middle\" x=\"784.38\" y=\"-68.7\" font-family=\"Times,serif\" font-size=\"14.00\">grad &#45;2.0000</text>\n",
       "</g>\n",
       "<!-- 4662050720&#45;&gt;4662223344* -->\n",
       "<g id=\"edge9\" class=\"edge\">\n",
       "<title>4662050720&#45;&gt;4662223344*</title>\n",
       "<path fill=\"none\" stroke=\"black\" d=\"M827.49,-56.65C836.36,-55.05 844.93,-53.5 852.73,-52.09\"/>\n",
       "<polygon fill=\"black\" stroke=\"black\" points=\"853.2,-55.56 862.42,-50.34 851.95,-48.68 853.2,-55.56\"/>\n",
       "</g>\n",
       "<!-- 4662050720+&#45;&gt;4662050720 -->\n",
       "<g id=\"edge2\" class=\"edge\">\n",
       "<title>4662050720+&#45;&gt;4662050720</title>\n",
       "<path fill=\"none\" stroke=\"black\" d=\"M603.31,-73.5C610.49,-73.5 618.72,-73.5 627.47,-73.5\"/>\n",
       "<polygon fill=\"black\" stroke=\"black\" points=\"627.29,-77 637.29,-73.5 627.29,-70 627.29,-77\"/>\n",
       "</g>\n",
       "<!-- 4663217600 -->\n",
       "<g id=\"node8\" class=\"node\">\n",
       "<title>4663217600</title>\n",
       "<polygon fill=\"none\" stroke=\"black\" points=\"0,-56.5 0,-92.5 192.75,-92.5 192.75,-56.5 0,-56.5\"/>\n",
       "<text xml:space=\"preserve\" text-anchor=\"middle\" x=\"11.38\" y=\"-69.7\" font-family=\"Times,serif\" font-size=\"14.00\">b</text>\n",
       "<polyline fill=\"none\" stroke=\"black\" points=\"22.75,-57 22.75,-92.5\"/>\n",
       "<text xml:space=\"preserve\" text-anchor=\"middle\" x=\"64.88\" y=\"-69.7\" font-family=\"Times,serif\" font-size=\"14.00\">data &#45;3.0000</text>\n",
       "<polyline fill=\"none\" stroke=\"black\" points=\"107,-57 107,-92.5\"/>\n",
       "<text xml:space=\"preserve\" text-anchor=\"middle\" x=\"149.88\" y=\"-69.7\" font-family=\"Times,serif\" font-size=\"14.00\">grad &#45;4.0000</text>\n",
       "</g>\n",
       "<!-- 4663217600&#45;&gt;4663214336* -->\n",
       "<g id=\"edge6\" class=\"edge\">\n",
       "<title>4663217600&#45;&gt;4663214336*</title>\n",
       "<path fill=\"none\" stroke=\"black\" d=\"M193,-90.91C201.81,-92.42 210.32,-93.88 218.06,-95.2\"/>\n",
       "<polygon fill=\"black\" stroke=\"black\" points=\"217.21,-98.61 227.66,-96.85 218.4,-91.71 217.21,-98.61\"/>\n",
       "</g>\n",
       "<!-- 4662223344 -->\n",
       "<g id=\"node9\" class=\"node\">\n",
       "<title>4662223344</title>\n",
       "<polygon fill=\"none\" stroke=\"black\" points=\"953.25,-27.5 953.25,-63.5 1143,-63.5 1143,-27.5 953.25,-27.5\"/>\n",
       "<text xml:space=\"preserve\" text-anchor=\"middle\" x=\"965.38\" y=\"-40.7\" font-family=\"Times,serif\" font-size=\"14.00\">L</text>\n",
       "<polyline fill=\"none\" stroke=\"black\" points=\"977.5,-28 977.5,-63.5\"/>\n",
       "<text xml:space=\"preserve\" text-anchor=\"middle\" x=\"1019.62\" y=\"-40.7\" font-family=\"Times,serif\" font-size=\"14.00\">data &#45;8.0000</text>\n",
       "<polyline fill=\"none\" stroke=\"black\" points=\"1061.75,-28 1061.75,-63.5\"/>\n",
       "<text xml:space=\"preserve\" text-anchor=\"middle\" x=\"1102.38\" y=\"-40.7\" font-family=\"Times,serif\" font-size=\"14.00\">grad 1.0000</text>\n",
       "</g>\n",
       "<!-- 4662223344*&#45;&gt;4662223344 -->\n",
       "<g id=\"edge3\" class=\"edge\">\n",
       "<title>4662223344*&#45;&gt;4662223344</title>\n",
       "<path fill=\"none\" stroke=\"black\" d=\"M917.69,-45.5C924.84,-45.5 933.03,-45.5 941.74,-45.5\"/>\n",
       "<polygon fill=\"black\" stroke=\"black\" points=\"941.51,-49 951.51,-45.5 941.51,-42 941.51,-49\"/>\n",
       "</g>\n",
       "</g>\n",
       "</svg>\n"
      ],
      "text/plain": [
       "<graphviz.graphs.Digraph at 0x115b22790>"
      ]
     },
     "execution_count": 149,
     "metadata": {},
     "output_type": "execute_result"
    }
   ],
   "source": [
    "L.grad = 1.0\n",
    "d.grad = -2.0\n",
    "f.grad = 4.0\n",
    "e.grad = -2.0\n",
    "c.grad = -2.0\n",
    "a.grad = 6.0\n",
    "b.grad = -4.0\n",
    "draw_dot(L)"
   ]
  },
  {
   "cell_type": "code",
   "execution_count": 150,
   "id": "23fd6c71",
   "metadata": {},
   "outputs": [
    {
     "name": "stdout",
     "output_type": "stream",
     "text": [
      "0.0\n"
     ]
    }
   ],
   "source": [
    "def lol():\n",
    "    h = 0.0001\n",
    "\n",
    "    a = Value(2.0, label='a')\n",
    "    b = Value(-3.0, label='b')\n",
    "    c = Value(10.0, label='c')\n",
    "    e = a * b; e.label = 'e'\n",
    "    d = e + c; d.label = 'd'\n",
    "    f = Value(-2.0, label='f')\n",
    "    L = d * f; L.label = 'L'\n",
    "    L1 = L\n",
    "    \n",
    "    a = Value(2.0, label='a')\n",
    "    # a = a + Value(h) # dL/da again due to chain \n",
    "    b = Value(-3.0, label='b')\n",
    "    # b = b + Value(h) # dL/db\n",
    "    c = Value(10.0, label='c')\n",
    "    # c = c + Value(h) # dL/dc # due to chain rule since L depends on d which depends on c\n",
    "    # see n Leibniz's notation on wikipedia and intuitive explanation with bycicle and car\n",
    "    e = a * b; e.label = 'e'\n",
    "    d = e + c; d.label = 'd'\n",
    "    # d = d + Value(h) # dL/dd\n",
    "    #f = f + Value(h) # dL/df\n",
    "    L = d * f; L.label = 'L'\n",
    "    # L2 = L + Value(h) # dL/dL\n",
    "    L2 = L\n",
    "\n",
    "    print((L2.data - L1.data) / h) # rise over run\n",
    "\n",
    "lol()"
   ]
  },
  {
   "cell_type": "markdown",
   "id": "9bb82dbc",
   "metadata": {},
   "source": [
    "Now look at a neuron.\n",
    "\n",
    "For a neuron with tanh activation function:\n",
    "\n",
    "$$\n",
    "y = \\tanh(w_1x_1 + w_2x_2 + b)\n",
    "$$\n",
    "\n",
    "Where:\n",
    "- $x_1, x_2$ are the inputs\n",
    "- $w_1, w_2$ are the weights  \n",
    "- $b$ is the bias\n",
    "- $y$ is the output\n",
    "\n",
    "The computation can be broken down into steps:\n",
    "1. Linear combination: $z = w_1x_1 + w_2x_2 + b$\n",
    "2. Activation: $y = \\tanh(z)$\n",
    "\n",
    "Note that tanh is a hyperbolic function\n",
    "\n",
    "The activation function squashes and clamps values.  Here is what tanh looks like:"
   ]
  },
  {
   "cell_type": "code",
   "execution_count": 151,
   "id": "2da5521c",
   "metadata": {},
   "outputs": [
    {
     "data": {
      "image/png": "[encoded data removed]",
      "text/plain": [
       "<Figure size 640x480 with 1 Axes>"
      ]
     },
     "metadata": {},
     "output_type": "display_data"
    }
   ],
   "source": [
    "plt.plot(np.arange(-5, 5, 0.2), np.tanh(np.arange(-5, 5, 0.2))); plt.grid()"
   ]
  },
  {
   "cell_type": "code",
   "execution_count": 152,
   "id": "710e3811",
   "metadata": {},
   "outputs": [
    {
     "data": {
      "image/png": "[encoded data removed]",
      "text/plain": [
       "<Figure size 640x480 with 1 Axes>"
      ]
     },
     "metadata": {},
     "output_type": "display_data"
    }
   ],
   "source": [
    "def sigmoid(x):\n",
    "    return 1 / (1 + np.exp(-x))\n",
    "\n",
    "plt.plot(np.arange(-5, 5, 0.2), sigmoid(np.arange(-5, 5, 0.2))); plt.grid()"
   ]
  },
  {
   "cell_type": "code",
   "execution_count": null,
   "id": "0f40d382",
   "metadata": {},
   "outputs": [],
   "source": [
    "# inputs x1,x2\n",
    "x1 = Value(2.0, label='x1')\n",
    "x2 = Value(0.0, label='x2')\n",
    "# weights w1,w2\n",
    "w1 = Value(-3.0, label='w1')\n",
    "w2 = Value(1.0, label='w2')\n",
    "# bias of the neuron\n",
    "b = Value(6.7, label='b')\n",
    "#x1*w1 + x2*w2 + b\n",
    "x1w1 = x1*w1; x1w1.label = 'x1*w1'\n",
    "x2w2 = x2*w2; x2w2.label = 'x2*w2'\n",
    "x1w1x2w2 = x1w1 + x2w2; x1w1x2w2.label = 'x1*w1 + x2*w2'\n",
    "n = x1w1x2w2 + b; n.label = 'n'\n",
    "o = n.tanh(); o.label = 'o'"
   ]
  },
  {
   "cell_type": "code",
   "execution_count": 156,
   "id": "95472710",
   "metadata": {},
   "outputs": [
    {
     "data": {
      "image/svg+xml": [
       "<?xml version=\"1.0\" encoding=\"UTF-8\" standalone=\"no\"?>\n",
       "<!DOCTYPE svg PUBLIC \"-//W3C//DTD SVG 1.1//EN\"\n",
       " \"http://www.w3.org/Graphics/SVG/1.1/DTD/svg11.dtd\">\n",
       "<!-- Generated by graphviz version 13.1.2 (20250808.2320)\n",
       " -->\n",
       "<!-- Pages: 1 -->\n",
       "<svg width=\"1567pt\" height=\"210pt\"\n",
       " viewBox=\"0.00 0.00 1567.00 210.00\" xmlns=\"http://www.w3.org/2000/svg\" xmlns:xlink=\"http://www.w3.org/1999/xlink\">\n",
       "<g id=\"graph0\" class=\"graph\" transform=\"scale(1 1) rotate(0) translate(4 206)\">\n",
       "<polygon fill=\"white\" stroke=\"none\" points=\"-4,4 -4,-206 1562.5,-206 1562.5,4 -4,4\"/>\n",
       "<!-- 4663068176 -->\n",
       "<g id=\"node1\" class=\"node\">\n",
       "<title>4663068176</title>\n",
       "<polygon fill=\"none\" stroke=\"black\" points=\"324,-55.5 324,-91.5 542.25,-91.5 542.25,-55.5 324,-55.5\"/>\n",
       "<text xml:space=\"preserve\" text-anchor=\"middle\" x=\"350.38\" y=\"-68.7\" font-family=\"Times,serif\" font-size=\"14.00\">x1*w1</text>\n",
       "<polyline fill=\"none\" stroke=\"black\" points=\"376.75,-56 376.75,-91.5\"/>\n",
       "<text xml:space=\"preserve\" text-anchor=\"middle\" x=\"418.88\" y=\"-68.7\" font-family=\"Times,serif\" font-size=\"14.00\">data &#45;6.0000</text>\n",
       "<polyline fill=\"none\" stroke=\"black\" points=\"461,-56 461,-91.5\"/>\n",
       "<text xml:space=\"preserve\" text-anchor=\"middle\" x=\"501.62\" y=\"-68.7\" font-family=\"Times,serif\" font-size=\"14.00\">grad 0.0000</text>\n",
       "</g>\n",
       "<!-- 4662896720+ -->\n",
       "<g id=\"node5\" class=\"node\">\n",
       "<title>4662896720+</title>\n",
       "<ellipse fill=\"none\" stroke=\"black\" cx=\"605.25\" cy=\"-100.5\" rx=\"27\" ry=\"18\"/>\n",
       "<text xml:space=\"preserve\" text-anchor=\"middle\" x=\"605.25\" y=\"-95.45\" font-family=\"Times,serif\" font-size=\"14.00\">+</text>\n",
       "</g>\n",
       "<!-- 4663068176&#45;&gt;4662896720+ -->\n",
       "<g id=\"edge10\" class=\"edge\">\n",
       "<title>4663068176&#45;&gt;4662896720+</title>\n",
       "<path fill=\"none\" stroke=\"black\" d=\"M542.35,-90.68C551.12,-92.07 559.54,-93.4 567.19,-94.62\"/>\n",
       "<polygon fill=\"black\" stroke=\"black\" points=\"566.59,-98.07 577.02,-96.18 567.69,-91.15 566.59,-98.07\"/>\n",
       "</g>\n",
       "<!-- 4663068176* -->\n",
       "<g id=\"node2\" class=\"node\">\n",
       "<title>4663068176*</title>\n",
       "<ellipse fill=\"none\" stroke=\"black\" cx=\"261\" cy=\"-73.5\" rx=\"27\" ry=\"18\"/>\n",
       "<text xml:space=\"preserve\" text-anchor=\"middle\" x=\"261\" y=\"-68.45\" font-family=\"Times,serif\" font-size=\"14.00\">*</text>\n",
       "</g>\n",
       "<!-- 4663068176*&#45;&gt;4663068176 -->\n",
       "<g id=\"edge1\" class=\"edge\">\n",
       "<title>4663068176*&#45;&gt;4663068176</title>\n",
       "<path fill=\"none\" stroke=\"black\" d=\"M288.21,-73.5C295.29,-73.5 303.43,-73.5 312.17,-73.5\"/>\n",
       "<polygon fill=\"black\" stroke=\"black\" points=\"312.01,-77 322.01,-73.5 312.01,-70 312.01,-77\"/>\n",
       "</g>\n",
       "<!-- 4663068704 -->\n",
       "<g id=\"node3\" class=\"node\">\n",
       "<title>4663068704</title>\n",
       "<polygon fill=\"none\" stroke=\"black\" points=\"0,-55.5 0,-91.5 198,-91.5 198,-55.5 0,-55.5\"/>\n",
       "<text xml:space=\"preserve\" text-anchor=\"middle\" x=\"16.25\" y=\"-68.7\" font-family=\"Times,serif\" font-size=\"14.00\">w1</text>\n",
       "<polyline fill=\"none\" stroke=\"black\" points=\"32.5,-56 32.5,-91.5\"/>\n",
       "<text xml:space=\"preserve\" text-anchor=\"middle\" x=\"74.62\" y=\"-68.7\" font-family=\"Times,serif\" font-size=\"14.00\">data &#45;3.0000</text>\n",
       "<polyline fill=\"none\" stroke=\"black\" points=\"116.75,-56 116.75,-91.5\"/>\n",
       "<text xml:space=\"preserve\" text-anchor=\"middle\" x=\"157.38\" y=\"-68.7\" font-family=\"Times,serif\" font-size=\"14.00\">grad 0.0000</text>\n",
       "</g>\n",
       "<!-- 4663068704&#45;&gt;4663068176* -->\n",
       "<g id=\"edge11\" class=\"edge\">\n",
       "<title>4663068704&#45;&gt;4663068176*</title>\n",
       "<path fill=\"none\" stroke=\"black\" d=\"M198.14,-73.5C206.61,-73.5 214.8,-73.5 222.29,-73.5\"/>\n",
       "<polygon fill=\"black\" stroke=\"black\" points=\"222.29,-77 232.29,-73.5 222.29,-70 222.29,-77\"/>\n",
       "</g>\n",
       "<!-- 4662896720 -->\n",
       "<g id=\"node4\" class=\"node\">\n",
       "<title>4662896720</title>\n",
       "<polygon fill=\"none\" stroke=\"black\" points=\"668.25,-82.5 668.25,-118.5 939,-118.5 939,-82.5 668.25,-82.5\"/>\n",
       "<text xml:space=\"preserve\" text-anchor=\"middle\" x=\"720.88\" y=\"-95.7\" font-family=\"Times,serif\" font-size=\"14.00\">x1*w1 + x2*w2</text>\n",
       "<polyline fill=\"none\" stroke=\"black\" points=\"773.5,-83 773.5,-118.5\"/>\n",
       "<text xml:space=\"preserve\" text-anchor=\"middle\" x=\"815.62\" y=\"-95.7\" font-family=\"Times,serif\" font-size=\"14.00\">data &#45;6.0000</text>\n",
       "<polyline fill=\"none\" stroke=\"black\" points=\"857.75,-83 857.75,-118.5\"/>\n",
       "<text xml:space=\"preserve\" text-anchor=\"middle\" x=\"898.38\" y=\"-95.7\" font-family=\"Times,serif\" font-size=\"14.00\">grad 0.0000</text>\n",
       "</g>\n",
       "<!-- 4662897440+ -->\n",
       "<g id=\"node13\" class=\"node\">\n",
       "<title>4662897440+</title>\n",
       "<ellipse fill=\"none\" stroke=\"black\" cx=\"1002\" cy=\"-127.5\" rx=\"27\" ry=\"18\"/>\n",
       "<text xml:space=\"preserve\" text-anchor=\"middle\" x=\"1002\" y=\"-122.45\" font-family=\"Times,serif\" font-size=\"14.00\">+</text>\n",
       "</g>\n",
       "<!-- 4662896720&#45;&gt;4662897440+ -->\n",
       "<g id=\"edge9\" class=\"edge\">\n",
       "<title>4662896720&#45;&gt;4662897440+</title>\n",
       "<path fill=\"none\" stroke=\"black\" d=\"M939.14,-118.99C947.95,-120.21 956.31,-121.36 963.87,-122.4\"/>\n",
       "<polygon fill=\"black\" stroke=\"black\" points=\"963.16,-125.83 973.55,-123.73 964.12,-118.9 963.16,-125.83\"/>\n",
       "</g>\n",
       "<!-- 4662896720+&#45;&gt;4662896720 -->\n",
       "<g id=\"edge2\" class=\"edge\">\n",
       "<title>4662896720+&#45;&gt;4662896720</title>\n",
       "<path fill=\"none\" stroke=\"black\" d=\"M632.73,-100.5C639.73,-100.5 647.79,-100.5 656.52,-100.5\"/>\n",
       "<polygon fill=\"black\" stroke=\"black\" points=\"656.39,-104 666.39,-100.5 656.39,-97 656.39,-104\"/>\n",
       "</g>\n",
       "<!-- 4663068272 -->\n",
       "<g id=\"node6\" class=\"node\">\n",
       "<title>4663068272</title>\n",
       "<polygon fill=\"none\" stroke=\"black\" points=\"3.75,-0.5 3.75,-36.5 194.25,-36.5 194.25,-0.5 3.75,-0.5\"/>\n",
       "<text xml:space=\"preserve\" text-anchor=\"middle\" x=\"18.5\" y=\"-13.7\" font-family=\"Times,serif\" font-size=\"14.00\">x1</text>\n",
       "<polyline fill=\"none\" stroke=\"black\" points=\"33.25,-1 33.25,-36.5\"/>\n",
       "<text xml:space=\"preserve\" text-anchor=\"middle\" x=\"73.12\" y=\"-13.7\" font-family=\"Times,serif\" font-size=\"14.00\">data 2.0000</text>\n",
       "<polyline fill=\"none\" stroke=\"black\" points=\"113,-1 113,-36.5\"/>\n",
       "<text xml:space=\"preserve\" text-anchor=\"middle\" x=\"153.62\" y=\"-13.7\" font-family=\"Times,serif\" font-size=\"14.00\">grad 0.0000</text>\n",
       "</g>\n",
       "<!-- 4663068272&#45;&gt;4663068176* -->\n",
       "<g id=\"edge12\" class=\"edge\">\n",
       "<title>4663068272&#45;&gt;4663068176*</title>\n",
       "<path fill=\"none\" stroke=\"black\" d=\"M168.91,-36.94C178.74,-39.93 188.67,-43.15 198,-46.5 207.96,-50.07 218.58,-54.47 228.18,-58.68\"/>\n",
       "<polygon fill=\"black\" stroke=\"black\" points=\"226.54,-61.78 237.1,-62.67 229.4,-55.39 226.54,-61.78\"/>\n",
       "</g>\n",
       "<!-- 4662897776 -->\n",
       "<g id=\"node7\" class=\"node\">\n",
       "<title>4662897776</title>\n",
       "<polygon fill=\"none\" stroke=\"black\" points=\"326.25,-110.5 326.25,-146.5 540,-146.5 540,-110.5 326.25,-110.5\"/>\n",
       "<text xml:space=\"preserve\" text-anchor=\"middle\" x=\"352.62\" y=\"-123.7\" font-family=\"Times,serif\" font-size=\"14.00\">x2*w2</text>\n",
       "<polyline fill=\"none\" stroke=\"black\" points=\"379,-111 379,-146.5\"/>\n",
       "<text xml:space=\"preserve\" text-anchor=\"middle\" x=\"418.88\" y=\"-123.7\" font-family=\"Times,serif\" font-size=\"14.00\">data 0.0000</text>\n",
       "<polyline fill=\"none\" stroke=\"black\" points=\"458.75,-111 458.75,-146.5\"/>\n",
       "<text xml:space=\"preserve\" text-anchor=\"middle\" x=\"499.38\" y=\"-123.7\" font-family=\"Times,serif\" font-size=\"14.00\">grad 0.0000</text>\n",
       "</g>\n",
       "<!-- 4662897776&#45;&gt;4662896720+ -->\n",
       "<g id=\"edge6\" class=\"edge\">\n",
       "<title>4662897776&#45;&gt;4662896720+</title>\n",
       "<path fill=\"none\" stroke=\"black\" d=\"M540.42,-111.01C549.89,-109.45 559,-107.95 567.21,-106.6\"/>\n",
       "<polygon fill=\"black\" stroke=\"black\" points=\"567.75,-110.05 577.05,-104.98 566.62,-103.15 567.75,-110.05\"/>\n",
       "</g>\n",
       "<!-- 4662897776* -->\n",
       "<g id=\"node8\" class=\"node\">\n",
       "<title>4662897776*</title>\n",
       "<ellipse fill=\"none\" stroke=\"black\" cx=\"261\" cy=\"-128.5\" rx=\"27\" ry=\"18\"/>\n",
       "<text xml:space=\"preserve\" text-anchor=\"middle\" x=\"261\" y=\"-123.45\" font-family=\"Times,serif\" font-size=\"14.00\">*</text>\n",
       "</g>\n",
       "<!-- 4662897776*&#45;&gt;4662897776 -->\n",
       "<g id=\"edge3\" class=\"edge\">\n",
       "<title>4662897776*&#45;&gt;4662897776</title>\n",
       "<path fill=\"none\" stroke=\"black\" d=\"M288.21,-128.5C296,-128.5 305.08,-128.5 314.82,-128.5\"/>\n",
       "<polygon fill=\"black\" stroke=\"black\" points=\"314.55,-132 324.55,-128.5 314.55,-125 314.55,-132\"/>\n",
       "</g>\n",
       "<!-- 4662897392 -->\n",
       "<g id=\"node9\" class=\"node\">\n",
       "<title>4662897392</title>\n",
       "<polygon fill=\"none\" stroke=\"black\" points=\"1374.75,-109.5 1374.75,-145.5 1558.5,-145.5 1558.5,-109.5 1374.75,-109.5\"/>\n",
       "<text xml:space=\"preserve\" text-anchor=\"middle\" x=\"1386.12\" y=\"-122.7\" font-family=\"Times,serif\" font-size=\"14.00\">o</text>\n",
       "<polyline fill=\"none\" stroke=\"black\" points=\"1397.5,-110 1397.5,-145.5\"/>\n",
       "<text xml:space=\"preserve\" text-anchor=\"middle\" x=\"1437.38\" y=\"-122.7\" font-family=\"Times,serif\" font-size=\"14.00\">data 0.6044</text>\n",
       "<polyline fill=\"none\" stroke=\"black\" points=\"1477.25,-110 1477.25,-145.5\"/>\n",
       "<text xml:space=\"preserve\" text-anchor=\"middle\" x=\"1517.88\" y=\"-122.7\" font-family=\"Times,serif\" font-size=\"14.00\">grad 0.0000</text>\n",
       "</g>\n",
       "<!-- 4662897392tanh -->\n",
       "<g id=\"node10\" class=\"node\">\n",
       "<title>4662897392tanh</title>\n",
       "<ellipse fill=\"none\" stroke=\"black\" cx=\"1311.75\" cy=\"-127.5\" rx=\"27\" ry=\"18\"/>\n",
       "<text xml:space=\"preserve\" text-anchor=\"middle\" x=\"1311.75\" y=\"-122.45\" font-family=\"Times,serif\" font-size=\"14.00\">tanh</text>\n",
       "</g>\n",
       "<!-- 4662897392tanh&#45;&gt;4662897392 -->\n",
       "<g id=\"edge4\" class=\"edge\">\n",
       "<title>4662897392tanh&#45;&gt;4662897392</title>\n",
       "<path fill=\"none\" stroke=\"black\" d=\"M1339.03,-127.5C1346.17,-127.5 1354.36,-127.5 1363.07,-127.5\"/>\n",
       "<polygon fill=\"black\" stroke=\"black\" points=\"1362.81,-131 1372.81,-127.5 1362.81,-124 1362.81,-131\"/>\n",
       "</g>\n",
       "<!-- 4663068944 -->\n",
       "<g id=\"node11\" class=\"node\">\n",
       "<title>4663068944</title>\n",
       "<polygon fill=\"none\" stroke=\"black\" points=\"2.25,-165.5 2.25,-201.5 195.75,-201.5 195.75,-165.5 2.25,-165.5\"/>\n",
       "<text xml:space=\"preserve\" text-anchor=\"middle\" x=\"18.5\" y=\"-178.7\" font-family=\"Times,serif\" font-size=\"14.00\">w2</text>\n",
       "<polyline fill=\"none\" stroke=\"black\" points=\"34.75,-166 34.75,-201.5\"/>\n",
       "<text xml:space=\"preserve\" text-anchor=\"middle\" x=\"74.62\" y=\"-178.7\" font-family=\"Times,serif\" font-size=\"14.00\">data 1.0000</text>\n",
       "<polyline fill=\"none\" stroke=\"black\" points=\"114.5,-166 114.5,-201.5\"/>\n",
       "<text xml:space=\"preserve\" text-anchor=\"middle\" x=\"155.12\" y=\"-178.7\" font-family=\"Times,serif\" font-size=\"14.00\">grad 0.0000</text>\n",
       "</g>\n",
       "<!-- 4663068944&#45;&gt;4662897776* -->\n",
       "<g id=\"edge7\" class=\"edge\">\n",
       "<title>4663068944&#45;&gt;4662897776*</title>\n",
       "<path fill=\"none\" stroke=\"black\" d=\"M172.12,-165.01C180.9,-162.35 189.7,-159.5 198,-156.5 208.09,-152.86 218.82,-148.27 228.47,-143.88\"/>\n",
       "<polygon fill=\"black\" stroke=\"black\" points=\"229.86,-147.09 237.45,-139.69 226.9,-140.75 229.86,-147.09\"/>\n",
       "</g>\n",
       "<!-- 4662897440 -->\n",
       "<g id=\"node12\" class=\"node\">\n",
       "<title>4662897440</title>\n",
       "<polygon fill=\"none\" stroke=\"black\" points=\"1065,-109.5 1065,-145.5 1248.75,-145.5 1248.75,-109.5 1065,-109.5\"/>\n",
       "<text xml:space=\"preserve\" text-anchor=\"middle\" x=\"1076.38\" y=\"-122.7\" font-family=\"Times,serif\" font-size=\"14.00\">n</text>\n",
       "<polyline fill=\"none\" stroke=\"black\" points=\"1087.75,-110 1087.75,-145.5\"/>\n",
       "<text xml:space=\"preserve\" text-anchor=\"middle\" x=\"1127.62\" y=\"-122.7\" font-family=\"Times,serif\" font-size=\"14.00\">data 0.7000</text>\n",
       "<polyline fill=\"none\" stroke=\"black\" points=\"1167.5,-110 1167.5,-145.5\"/>\n",
       "<text xml:space=\"preserve\" text-anchor=\"middle\" x=\"1208.12\" y=\"-122.7\" font-family=\"Times,serif\" font-size=\"14.00\">grad 0.0000</text>\n",
       "</g>\n",
       "<!-- 4662897440&#45;&gt;4662897392tanh -->\n",
       "<g id=\"edge14\" class=\"edge\">\n",
       "<title>4662897440&#45;&gt;4662897392tanh</title>\n",
       "<path fill=\"none\" stroke=\"black\" d=\"M1249.01,-127.5C1257.39,-127.5 1265.52,-127.5 1272.98,-127.5\"/>\n",
       "<polygon fill=\"black\" stroke=\"black\" points=\"1272.95,-131 1282.95,-127.5 1272.95,-124 1272.95,-131\"/>\n",
       "</g>\n",
       "<!-- 4662897440+&#45;&gt;4662897440 -->\n",
       "<g id=\"edge5\" class=\"edge\">\n",
       "<title>4662897440+&#45;&gt;4662897440</title>\n",
       "<path fill=\"none\" stroke=\"black\" d=\"M1029.28,-127.5C1036.42,-127.5 1044.61,-127.5 1053.32,-127.5\"/>\n",
       "<polygon fill=\"black\" stroke=\"black\" points=\"1053.06,-131 1063.06,-127.5 1053.06,-124 1053.06,-131\"/>\n",
       "</g>\n",
       "<!-- 4663068464 -->\n",
       "<g id=\"node14\" class=\"node\">\n",
       "<title>4663068464</title>\n",
       "<polygon fill=\"none\" stroke=\"black\" points=\"711.75,-137.5 711.75,-173.5 895.5,-173.5 895.5,-137.5 711.75,-137.5\"/>\n",
       "<text xml:space=\"preserve\" text-anchor=\"middle\" x=\"723.12\" y=\"-150.7\" font-family=\"Times,serif\" font-size=\"14.00\">b</text>\n",
       "<polyline fill=\"none\" stroke=\"black\" points=\"734.5,-138 734.5,-173.5\"/>\n",
       "<text xml:space=\"preserve\" text-anchor=\"middle\" x=\"774.38\" y=\"-150.7\" font-family=\"Times,serif\" font-size=\"14.00\">data 6.7000</text>\n",
       "<polyline fill=\"none\" stroke=\"black\" points=\"814.25,-138 814.25,-173.5\"/>\n",
       "<text xml:space=\"preserve\" text-anchor=\"middle\" x=\"854.88\" y=\"-150.7\" font-family=\"Times,serif\" font-size=\"14.00\">grad 0.0000</text>\n",
       "</g>\n",
       "<!-- 4663068464&#45;&gt;4662897440+ -->\n",
       "<g id=\"edge8\" class=\"edge\">\n",
       "<title>4663068464&#45;&gt;4662897440+</title>\n",
       "<path fill=\"none\" stroke=\"black\" d=\"M895.91,-142.48C919.97,-139.05 944.58,-135.55 963.93,-132.79\"/>\n",
       "<polygon fill=\"black\" stroke=\"black\" points=\"964.34,-136.26 973.75,-131.39 963.35,-129.33 964.34,-136.26\"/>\n",
       "</g>\n",
       "<!-- 4663068080 -->\n",
       "<g id=\"node15\" class=\"node\">\n",
       "<title>4663068080</title>\n",
       "<polygon fill=\"none\" stroke=\"black\" points=\"3.75,-110.5 3.75,-146.5 194.25,-146.5 194.25,-110.5 3.75,-110.5\"/>\n",
       "<text xml:space=\"preserve\" text-anchor=\"middle\" x=\"18.5\" y=\"-123.7\" font-family=\"Times,serif\" font-size=\"14.00\">x2</text>\n",
       "<polyline fill=\"none\" stroke=\"black\" points=\"33.25,-111 33.25,-146.5\"/>\n",
       "<text xml:space=\"preserve\" text-anchor=\"middle\" x=\"73.12\" y=\"-123.7\" font-family=\"Times,serif\" font-size=\"14.00\">data 0.0000</text>\n",
       "<polyline fill=\"none\" stroke=\"black\" points=\"113,-111 113,-146.5\"/>\n",
       "<text xml:space=\"preserve\" text-anchor=\"middle\" x=\"153.62\" y=\"-123.7\" font-family=\"Times,serif\" font-size=\"14.00\">grad 0.0000</text>\n",
       "</g>\n",
       "<!-- 4663068080&#45;&gt;4662897776* -->\n",
       "<g id=\"edge13\" class=\"edge\">\n",
       "<title>4663068080&#45;&gt;4662897776*</title>\n",
       "<path fill=\"none\" stroke=\"black\" d=\"M194.46,-128.5C204.21,-128.5 213.66,-128.5 222.21,-128.5\"/>\n",
       "<polygon fill=\"black\" stroke=\"black\" points=\"222.12,-132 232.12,-128.5 222.12,-125 222.12,-132\"/>\n",
       "</g>\n",
       "</g>\n",
       "</svg>\n"
      ],
      "text/plain": [
       "<graphviz.graphs.Digraph at 0x115e9f4c0>"
      ]
     },
     "execution_count": 156,
     "metadata": {},
     "output_type": "execute_result"
    }
   ],
   "source": [
    "draw_dot (o)"
   ]
  }
 ],
 "metadata": {
  "kernelspec": {
   "display_name": "Python 3",
   "language": "python",
   "name": "python3"
  },
  "language_info": {
   "codemirror_mode": {
    "name": "ipython",
    "version": 3
   },
   "file_extension": ".py",
   "mimetype": "text/x-python",
   "name": "python",
   "nbconvert_exporter": "python",
   "pygments_lexer": "ipython3",
   "version": "3.9.6"
  }
 },
 "nbformat": 4,
 "nbformat_minor": 5
}
